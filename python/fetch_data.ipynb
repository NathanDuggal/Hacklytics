{
 "cells": [
  {
   "cell_type": "code",
   "execution_count": 7,
   "id": "bf2bc406",
   "metadata": {
    "scrolled": true
   },
   "outputs": [],
   "source": [
    "from pytrends.request import TrendReq\n",
    "\n",
    "pytrends = TrendReq(hl='en-US', tz=360)\n",
    "\n",
    "\n",
    "kw_list = [\"Bohemian Rhapsody\"]\n",
    "pytrends.build_payload(kw_list, cat=0, timeframe='today 5-y', geo='US-GA', gprop='youtube')\n",
    "data = pytrends.interest_over_time()\n",
    "#data = pytrends.get_historical_interest(kw_list, year_start=2018, month_start=1, day_start=1, hour_start=0, year_end=2022, month_end=2, day_end=1, hour_end=0, cat=0, geo='US-GA', gprop='', sleep=0)"
   ]
  },
  {
   "cell_type": "code",
   "execution_count": 8,
   "id": "bbc5bf05",
   "metadata": {},
   "outputs": [
    {
     "name": "stdout",
     "output_type": "stream",
     "text": [
      "            Bohemian Rhapsody  isPartial\n",
      "date                                    \n",
      "2018-02-11                 13      False\n",
      "2018-02-18                  9      False\n",
      "2018-02-25                  9      False\n",
      "2018-03-04                  9      False\n",
      "2018-03-11                  9      False\n",
      "...                       ...        ...\n",
      "2023-01-08                  8      False\n",
      "2023-01-15                  9      False\n",
      "2023-01-22                  8      False\n",
      "2023-01-29                  6      False\n",
      "2023-02-05                  8       True\n",
      "\n",
      "[261 rows x 2 columns]\n"
     ]
    }
   ],
   "source": [
    "print(data)"
   ]
  },
  {
   "cell_type": "code",
   "execution_count": 5,
   "id": "a227548f",
   "metadata": {},
   "outputs": [
    {
     "name": "stdout",
     "output_type": "stream",
     "text": [
      "Collecting pytrends==4.9.0\n",
      "  Using cached pytrends-4.9.0-py3-none-any.whl (15 kB)\n",
      "Requirement already satisfied: requests>=2.0 in /Users/pranavtadepalli/opt/anaconda3/lib/python3.9/site-packages (from pytrends==4.9.0) (2.25.1)\n",
      "Requirement already satisfied: lxml in /Users/pranavtadepalli/opt/anaconda3/lib/python3.9/site-packages (from pytrends==4.9.0) (4.6.3)\n",
      "Requirement already satisfied: pandas>=0.25 in /Users/pranavtadepalli/opt/anaconda3/lib/python3.9/site-packages (from pytrends==4.9.0) (1.3.4)\n",
      "Requirement already satisfied: python-dateutil>=2.7.3 in /Users/pranavtadepalli/opt/anaconda3/lib/python3.9/site-packages (from pandas>=0.25->pytrends==4.9.0) (2.8.2)\n",
      "Requirement already satisfied: pytz>=2017.3 in /Users/pranavtadepalli/opt/anaconda3/lib/python3.9/site-packages (from pandas>=0.25->pytrends==4.9.0) (2021.3)\n",
      "Requirement already satisfied: numpy>=1.17.3 in /Users/pranavtadepalli/opt/anaconda3/lib/python3.9/site-packages (from pandas>=0.25->pytrends==4.9.0) (1.20.3)\n",
      "Requirement already satisfied: six>=1.5 in /Users/pranavtadepalli/opt/anaconda3/lib/python3.9/site-packages (from python-dateutil>=2.7.3->pandas>=0.25->pytrends==4.9.0) (1.16.0)\n",
      "Requirement already satisfied: chardet<5,>=3.0.2 in /Users/pranavtadepalli/opt/anaconda3/lib/python3.9/site-packages (from requests>=2.0->pytrends==4.9.0) (4.0.0)\n",
      "Requirement already satisfied: idna<3,>=2.5 in /Users/pranavtadepalli/opt/anaconda3/lib/python3.9/site-packages (from requests>=2.0->pytrends==4.9.0) (2.10)\n",
      "Requirement already satisfied: certifi>=2017.4.17 in /Users/pranavtadepalli/opt/anaconda3/lib/python3.9/site-packages (from requests>=2.0->pytrends==4.9.0) (2020.12.5)\n",
      "Requirement already satisfied: urllib3<1.27,>=1.21.1 in /Users/pranavtadepalli/opt/anaconda3/lib/python3.9/site-packages (from requests>=2.0->pytrends==4.9.0) (1.26.2)\n",
      "Installing collected packages: pytrends\n",
      "  Attempting uninstall: pytrends\n",
      "    Found existing installation: pytrends 4.7.3\n",
      "    Uninstalling pytrends-4.7.3:\n",
      "      Successfully uninstalled pytrends-4.7.3\n",
      "Successfully installed pytrends-4.9.0\n",
      "Note: you may need to restart the kernel to use updated packages.\n"
     ]
    }
   ],
   "source": [
    "pip install pytrends==4.9.0\n"
   ]
  },
  {
   "cell_type": "code",
   "execution_count": 3,
   "id": "b9c40c38",
   "metadata": {},
   "outputs": [
    {
     "ename": "AttributeError",
     "evalue": "module 'pytrends' has no attribute 'lower'",
     "output_type": "error",
     "traceback": [
      "\u001b[0;31m---------------------------------------------------------------------------\u001b[0m",
      "\u001b[0;31mAttributeError\u001b[0m                            Traceback (most recent call last)",
      "\u001b[0;32m/var/folders/tx/4vwyv3bj3dx_t_b7wml695w40000gn/T/ipykernel_11855/2682319116.py\u001b[0m in \u001b[0;36m<module>\u001b[0;34m\u001b[0m\n\u001b[1;32m      1\u001b[0m \u001b[0;32mfrom\u001b[0m \u001b[0mimportlib\u001b[0m\u001b[0;34m.\u001b[0m\u001b[0mmetadata\u001b[0m \u001b[0;32mimport\u001b[0m \u001b[0mversion\u001b[0m\u001b[0;34m\u001b[0m\u001b[0;34m\u001b[0m\u001b[0m\n\u001b[0;32m----> 2\u001b[0;31m \u001b[0mprint\u001b[0m\u001b[0;34m(\u001b[0m\u001b[0mversion\u001b[0m\u001b[0;34m(\u001b[0m\u001b[0mpytrends\u001b[0m\u001b[0;34m)\u001b[0m\u001b[0;34m)\u001b[0m\u001b[0;34m\u001b[0m\u001b[0;34m\u001b[0m\u001b[0m\n\u001b[0m",
      "\u001b[0;32m~/opt/anaconda3/lib/python3.9/importlib/metadata.py\u001b[0m in \u001b[0;36mversion\u001b[0;34m(distribution_name)\u001b[0m\n\u001b[1;32m    549\u001b[0m         \u001b[0;34m\"Version\"\u001b[0m \u001b[0mmetadata\u001b[0m \u001b[0mkey\u001b[0m\u001b[0;34m.\u001b[0m\u001b[0;34m\u001b[0m\u001b[0;34m\u001b[0m\u001b[0m\n\u001b[1;32m    550\u001b[0m     \"\"\"\n\u001b[0;32m--> 551\u001b[0;31m     \u001b[0;32mreturn\u001b[0m \u001b[0mdistribution\u001b[0m\u001b[0;34m(\u001b[0m\u001b[0mdistribution_name\u001b[0m\u001b[0;34m)\u001b[0m\u001b[0;34m.\u001b[0m\u001b[0mversion\u001b[0m\u001b[0;34m\u001b[0m\u001b[0;34m\u001b[0m\u001b[0m\n\u001b[0m\u001b[1;32m    552\u001b[0m \u001b[0;34m\u001b[0m\u001b[0m\n\u001b[1;32m    553\u001b[0m \u001b[0;34m\u001b[0m\u001b[0m\n",
      "\u001b[0;32m~/opt/anaconda3/lib/python3.9/importlib/metadata.py\u001b[0m in \u001b[0;36mdistribution\u001b[0;34m(distribution_name)\u001b[0m\n\u001b[1;32m    522\u001b[0m     \u001b[0;34m:\u001b[0m\u001b[0;32mreturn\u001b[0m\u001b[0;34m:\u001b[0m \u001b[0mA\u001b[0m\u001b[0;31m \u001b[0m\u001b[0;31m`\u001b[0m\u001b[0;31m`\u001b[0m\u001b[0mDistribution\u001b[0m\u001b[0;31m`\u001b[0m\u001b[0;31m`\u001b[0m \u001b[0minstance\u001b[0m \u001b[0;34m(\u001b[0m\u001b[0;32mor\u001b[0m \u001b[0msubclass\u001b[0m \u001b[0mthereof\u001b[0m\u001b[0;34m)\u001b[0m\u001b[0;34m.\u001b[0m\u001b[0;34m\u001b[0m\u001b[0;34m\u001b[0m\u001b[0m\n\u001b[1;32m    523\u001b[0m     \"\"\"\n\u001b[0;32m--> 524\u001b[0;31m     \u001b[0;32mreturn\u001b[0m \u001b[0mDistribution\u001b[0m\u001b[0;34m.\u001b[0m\u001b[0mfrom_name\u001b[0m\u001b[0;34m(\u001b[0m\u001b[0mdistribution_name\u001b[0m\u001b[0;34m)\u001b[0m\u001b[0;34m\u001b[0m\u001b[0;34m\u001b[0m\u001b[0m\n\u001b[0m\u001b[1;32m    525\u001b[0m \u001b[0;34m\u001b[0m\u001b[0m\n\u001b[1;32m    526\u001b[0m \u001b[0;34m\u001b[0m\u001b[0m\n",
      "\u001b[0;32m~/opt/anaconda3/lib/python3.9/importlib/metadata.py\u001b[0m in \u001b[0;36mfrom_name\u001b[0;34m(cls, name)\u001b[0m\n\u001b[1;32m    181\u001b[0m         \u001b[0;32mfor\u001b[0m \u001b[0mresolver\u001b[0m \u001b[0;32min\u001b[0m \u001b[0mcls\u001b[0m\u001b[0;34m.\u001b[0m\u001b[0m_discover_resolvers\u001b[0m\u001b[0;34m(\u001b[0m\u001b[0;34m)\u001b[0m\u001b[0;34m:\u001b[0m\u001b[0;34m\u001b[0m\u001b[0;34m\u001b[0m\u001b[0m\n\u001b[1;32m    182\u001b[0m             \u001b[0mdists\u001b[0m \u001b[0;34m=\u001b[0m \u001b[0mresolver\u001b[0m\u001b[0;34m(\u001b[0m\u001b[0mDistributionFinder\u001b[0m\u001b[0;34m.\u001b[0m\u001b[0mContext\u001b[0m\u001b[0;34m(\u001b[0m\u001b[0mname\u001b[0m\u001b[0;34m=\u001b[0m\u001b[0mname\u001b[0m\u001b[0;34m)\u001b[0m\u001b[0;34m)\u001b[0m\u001b[0;34m\u001b[0m\u001b[0;34m\u001b[0m\u001b[0m\n\u001b[0;32m--> 183\u001b[0;31m             \u001b[0mdist\u001b[0m \u001b[0;34m=\u001b[0m \u001b[0mnext\u001b[0m\u001b[0;34m(\u001b[0m\u001b[0miter\u001b[0m\u001b[0;34m(\u001b[0m\u001b[0mdists\u001b[0m\u001b[0;34m)\u001b[0m\u001b[0;34m,\u001b[0m \u001b[0;32mNone\u001b[0m\u001b[0;34m)\u001b[0m\u001b[0;34m\u001b[0m\u001b[0;34m\u001b[0m\u001b[0m\n\u001b[0m\u001b[1;32m    184\u001b[0m             \u001b[0;32mif\u001b[0m \u001b[0mdist\u001b[0m \u001b[0;32mis\u001b[0m \u001b[0;32mnot\u001b[0m \u001b[0;32mNone\u001b[0m\u001b[0;34m:\u001b[0m\u001b[0;34m\u001b[0m\u001b[0;34m\u001b[0m\u001b[0m\n\u001b[1;32m    185\u001b[0m                 \u001b[0;32mreturn\u001b[0m \u001b[0mdist\u001b[0m\u001b[0;34m\u001b[0m\u001b[0;34m\u001b[0m\u001b[0m\n",
      "\u001b[0;32m~/opt/anaconda3/lib/python3.9/importlib/metadata.py\u001b[0m in \u001b[0;36m<genexpr>\u001b[0;34m(.0)\u001b[0m\n\u001b[1;32m    492\u001b[0m         \u001b[0;34m\"\"\"Find metadata directories in paths heuristically.\"\"\"\u001b[0m\u001b[0;34m\u001b[0m\u001b[0;34m\u001b[0m\u001b[0m\n\u001b[1;32m    493\u001b[0m         return itertools.chain.from_iterable(\n\u001b[0;32m--> 494\u001b[0;31m             \u001b[0mpath\u001b[0m\u001b[0;34m.\u001b[0m\u001b[0msearch\u001b[0m\u001b[0;34m(\u001b[0m\u001b[0mPrepared\u001b[0m\u001b[0;34m(\u001b[0m\u001b[0mname\u001b[0m\u001b[0;34m)\u001b[0m\u001b[0;34m)\u001b[0m\u001b[0;34m\u001b[0m\u001b[0;34m\u001b[0m\u001b[0m\n\u001b[0m\u001b[1;32m    495\u001b[0m             \u001b[0;32mfor\u001b[0m \u001b[0mpath\u001b[0m \u001b[0;32min\u001b[0m \u001b[0mmap\u001b[0m\u001b[0;34m(\u001b[0m\u001b[0mFastPath\u001b[0m\u001b[0;34m,\u001b[0m \u001b[0mpaths\u001b[0m\u001b[0;34m)\u001b[0m\u001b[0;34m\u001b[0m\u001b[0;34m\u001b[0m\u001b[0m\n\u001b[1;32m    496\u001b[0m             )\n",
      "\u001b[0;32m~/opt/anaconda3/lib/python3.9/importlib/metadata.py\u001b[0m in \u001b[0;36m__init__\u001b[0;34m(self, name)\u001b[0m\n\u001b[1;32m    467\u001b[0m         \u001b[0;32mif\u001b[0m \u001b[0mname\u001b[0m \u001b[0;32mis\u001b[0m \u001b[0;32mNone\u001b[0m\u001b[0;34m:\u001b[0m\u001b[0;34m\u001b[0m\u001b[0;34m\u001b[0m\u001b[0m\n\u001b[1;32m    468\u001b[0m             \u001b[0;32mreturn\u001b[0m\u001b[0;34m\u001b[0m\u001b[0;34m\u001b[0m\u001b[0m\n\u001b[0;32m--> 469\u001b[0;31m         \u001b[0mself\u001b[0m\u001b[0;34m.\u001b[0m\u001b[0mnormalized\u001b[0m \u001b[0;34m=\u001b[0m \u001b[0mname\u001b[0m\u001b[0;34m.\u001b[0m\u001b[0mlower\u001b[0m\u001b[0;34m(\u001b[0m\u001b[0;34m)\u001b[0m\u001b[0;34m.\u001b[0m\u001b[0mreplace\u001b[0m\u001b[0;34m(\u001b[0m\u001b[0;34m'-'\u001b[0m\u001b[0;34m,\u001b[0m \u001b[0;34m'_'\u001b[0m\u001b[0;34m)\u001b[0m\u001b[0;34m\u001b[0m\u001b[0;34m\u001b[0m\u001b[0m\n\u001b[0m\u001b[1;32m    470\u001b[0m         \u001b[0mself\u001b[0m\u001b[0;34m.\u001b[0m\u001b[0mprefix\u001b[0m \u001b[0;34m=\u001b[0m \u001b[0mself\u001b[0m\u001b[0;34m.\u001b[0m\u001b[0mnormalized\u001b[0m \u001b[0;34m+\u001b[0m \u001b[0;34m'-'\u001b[0m\u001b[0;34m\u001b[0m\u001b[0;34m\u001b[0m\u001b[0m\n\u001b[1;32m    471\u001b[0m         self.exact_matches = [\n",
      "\u001b[0;31mAttributeError\u001b[0m: module 'pytrends' has no attribute 'lower'"
     ]
    }
   ],
   "source": [
    "from importlib.metadata import version\n",
    "print(version(pytrends))"
   ]
  },
  {
   "cell_type": "code",
   "execution_count": 4,
   "id": "d89b3c30",
   "metadata": {},
   "outputs": [
    {
     "name": "stdout",
     "output_type": "stream",
     "text": [
      "Version: 4.8.0\n",
      "Note: you may need to restart the kernel to use updated packages.\n"
     ]
    }
   ],
   "source": [
    "pip show pytrends | grep Version"
   ]
  },
  {
   "cell_type": "code",
   "execution_count": null,
   "id": "92c6d3b0",
   "metadata": {},
   "outputs": [],
   "source": [
    "with open(\"track_features.csv\",\"r\") as file:\n",
    "    file = file.read().split('\\n')[1:]\n",
    "    with open()"
   ]
  }
 ],
 "metadata": {
  "kernelspec": {
   "display_name": "Python 3 (ipykernel)",
   "language": "python",
   "name": "python3"
  },
  "language_info": {
   "codemirror_mode": {
    "name": "ipython",
    "version": 3
   },
   "file_extension": ".py",
   "mimetype": "text/x-python",
   "name": "python",
   "nbconvert_exporter": "python",
   "pygments_lexer": "ipython3",
   "version": "3.9.7"
  }
 },
 "nbformat": 4,
 "nbformat_minor": 5
}
