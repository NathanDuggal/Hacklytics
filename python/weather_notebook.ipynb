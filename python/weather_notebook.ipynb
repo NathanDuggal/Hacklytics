{
 "cells": [
  {
   "cell_type": "code",
   "execution_count": 14,
   "id": "50e0f28c",
   "metadata": {},
   "outputs": [
    {
     "name": "stdout",
     "output_type": "stream",
     "text": [
      "Collecting matplotlib\n",
      "  Downloading matplotlib-3.6.3-cp38-cp38-macosx_10_12_x86_64.whl (7.3 MB)\n",
      "\u001b[2K     \u001b[90m━━━━━━━━━━━━━━━━━━━━━━━━━━━━━━━━━━━━━━━━\u001b[0m \u001b[32m7.3/7.3 MB\u001b[0m \u001b[31m22.6 MB/s\u001b[0m eta \u001b[36m0:00:00\u001b[0m00:01\u001b[0m00:01\u001b[0m\n",
      "\u001b[?25hCollecting kiwisolver>=1.0.1\n",
      "  Downloading kiwisolver-1.4.4-cp38-cp38-macosx_10_9_x86_64.whl (65 kB)\n",
      "\u001b[2K     \u001b[90m━━━━━━━━━━━━━━━━━━━━━━━━━━━━━━━━━━━━━━━━\u001b[0m \u001b[32m65.4/65.4 kB\u001b[0m \u001b[31m7.6 MB/s\u001b[0m eta \u001b[36m0:00:00\u001b[0m\n",
      "\u001b[?25hRequirement already satisfied: numpy>=1.19 in /Users/katherinehuang/opt/anaconda3/envs/tensyflow/lib/python3.8/site-packages (from matplotlib) (1.23.5)\n",
      "Requirement already satisfied: packaging>=20.0 in /Users/katherinehuang/opt/anaconda3/envs/tensyflow/lib/python3.8/site-packages (from matplotlib) (22.0)\n",
      "Collecting pillow>=6.2.0\n",
      "  Downloading Pillow-9.4.0-2-cp38-cp38-macosx_10_10_x86_64.whl (3.3 MB)\n",
      "\u001b[2K     \u001b[90m━━━━━━━━━━━━━━━━━━━━━━━━━━━━━━━━━━━━━━━━\u001b[0m \u001b[32m3.3/3.3 MB\u001b[0m \u001b[31m30.7 MB/s\u001b[0m eta \u001b[36m0:00:00\u001b[0ma \u001b[36m0:00:01\u001b[0m\n",
      "\u001b[?25hCollecting fonttools>=4.22.0\n",
      "  Downloading fonttools-4.38.0-py3-none-any.whl (965 kB)\n",
      "\u001b[2K     \u001b[90m━━━━━━━━━━━━━━━━━━━━━━━━━━━━━━━━━━━━━━\u001b[0m \u001b[32m965.4/965.4 kB\u001b[0m \u001b[31m21.9 MB/s\u001b[0m eta \u001b[36m0:00:00\u001b[0m00:01\u001b[0m\n",
      "\u001b[?25hCollecting cycler>=0.10\n",
      "  Downloading cycler-0.11.0-py3-none-any.whl (6.4 kB)\n",
      "Requirement already satisfied: python-dateutil>=2.7 in /Users/katherinehuang/opt/anaconda3/envs/tensyflow/lib/python3.8/site-packages (from matplotlib) (2.8.2)\n",
      "Collecting pyparsing>=2.2.1\n",
      "  Using cached pyparsing-3.0.9-py3-none-any.whl (98 kB)\n",
      "Collecting contourpy>=1.0.1\n",
      "  Downloading contourpy-1.0.7-cp38-cp38-macosx_10_9_x86_64.whl (243 kB)\n",
      "\u001b[2K     \u001b[90m━━━━━━━━━━━━━━━━━━━━━━━━━━━━━━━━━━━━━━\u001b[0m \u001b[32m244.0/244.0 kB\u001b[0m \u001b[31m19.9 MB/s\u001b[0m eta \u001b[36m0:00:00\u001b[0m\n",
      "\u001b[?25hRequirement already satisfied: six>=1.5 in /Users/katherinehuang/opt/anaconda3/envs/tensyflow/lib/python3.8/site-packages (from python-dateutil>=2.7->matplotlib) (1.16.0)\n",
      "Installing collected packages: pyparsing, pillow, kiwisolver, fonttools, cycler, contourpy, matplotlib\n",
      "Successfully installed contourpy-1.0.7 cycler-0.11.0 fonttools-4.38.0 kiwisolver-1.4.4 matplotlib-3.6.3 pillow-9.4.0 pyparsing-3.0.9\n"
     ]
    }
   ],
   "source": [
    "#processing single query for current data\n",
    "\n",
    "import sys\n",
    "!$sys.executable -m pip install matplotlib\n",
    "\n",
    "\n",
    "import requests\n",
    "import sys\n",
    "import json\n",
    "\n",
    "import os\n",
    "import matplotlib.pyplot as plt\n",
    "import pandas as pd\n",
    "                \n",
    "\n",
    "response = requests.request(\"GET\", \"https://weather.visualcrossing.com/VisualCrossingWebServices/rest/services/timeline/atlanta?unitGroup=us&include=current&key=R9ZCEVVMLR3LJL43H33SFS4G4&contentType=json\")\n",
    "if response.status_code!=200:\n",
    "  print('Unexpected Status code: ', response.status_code)\n",
    "  sys.exit()  \n",
    "\n",
    "\n",
    "# Parse the results as JSON\n",
    "jsonData = response.json()\n"
   ]
  },
  {
   "cell_type": "code",
   "execution_count": 20,
   "id": "ccf9fe95",
   "metadata": {},
   "outputs": [
    {
     "name": "stdout",
     "output_type": "stream",
     "text": [
      "Index(['datetime', 'tempmax', 'tempmin', 'temp', 'feelslikemax',\n",
      "       'feelslikemin', 'feelslike', 'dew', 'humidity', 'precip', 'precipcover',\n",
      "       'snowdepth', 'windgust', 'windspeed', 'winddir', 'cloudcover',\n",
      "       'visibility', 'solarradiation', 'solarenergy', 'uvindex', 'moonphase'],\n",
      "      dtype='object')\n"
     ]
    }
   ],
   "source": [
    "#processing all the weather data\n",
    "\n",
    "df = pd.read_csv(r'weatherData.csv') #df is dataframe\n",
    "\n",
    "#make all data numeric by dropping some columns\n",
    "#note: have to reassign df to the result of df.drop\n",
    "df = df.drop(columns=['name', 'severerisk', 'sunrise', 'preciptype', 'precipprob', 'snow',\n",
    "                      'sunset', 'description', 'sealevelpressure', 'icon', 'conditions', 'stations'])\n",
    "\n",
    "#print(type(df._get_value(0, 1, takeable = True)))\n",
    "\n",
    "print(df.columns)\n",
    "\n",
    "\n"
   ]
  },
  {
   "cell_type": "code",
   "execution_count": 18,
   "id": "ed4cfd07",
   "metadata": {},
   "outputs": [
    {
     "name": "stdout",
     "output_type": "stream",
     "text": [
      "Requirement already satisfied: pandas in /Users/katherinehuang/opt/anaconda3/envs/tensyflow/lib/python3.8/site-packages (1.5.3)\n",
      "Requirement already satisfied: pytz>=2020.1 in /Users/katherinehuang/opt/anaconda3/envs/tensyflow/lib/python3.8/site-packages (from pandas) (2022.7.1)\n",
      "Requirement already satisfied: python-dateutil>=2.8.1 in /Users/katherinehuang/opt/anaconda3/envs/tensyflow/lib/python3.8/site-packages (from pandas) (2.8.2)\n",
      "Requirement already satisfied: numpy>=1.20.3 in /Users/katherinehuang/opt/anaconda3/envs/tensyflow/lib/python3.8/site-packages (from pandas) (1.23.5)\n",
      "Requirement already satisfied: six>=1.5 in /Users/katherinehuang/opt/anaconda3/envs/tensyflow/lib/python3.8/site-packages (from python-dateutil>=2.8.1->pandas) (1.16.0)\n",
      "Index(['datetime', 'tempmax', 'tempmin', 'temp', 'feelslikemax',\n",
      "       'feelslikemin', 'feelslike', 'dew', 'humidity', 'precip', 'precipcover',\n",
      "       'snowdepth', 'windgust', 'windspeed', 'winddir', 'cloudcover',\n",
      "       'visibility', 'solarradiation', 'solarenergy', 'uvindex', 'moonphase'],\n",
      "      dtype='object')\n"
     ]
    }
   ],
   "source": [
    "#processing just the single query data!\n",
    "\n",
    "import sys\n",
    "!$sys.executable -m pip install pandas\n",
    "\n",
    "import pandas as pd #pandas imported with alias!\n",
    "\n",
    "key_list = \"datetime,tempmax,tempmin,temp,feelslikemax,feelslikemin,feelslike,dew,humidity,precip,precipprob,precipcover,preciptype,snow,snowdepth,windgust,windspeed,winddir,cloudcover,visibility,solarradiation,solarenergy,uvindex,severerisk,sunrise,sunset,moonphase,conditions,description,icon,stations\".split(\",\")\n",
    "my_dict = jsonData[\"days\"][0] #get value of the key called \"days\". Get 0th value of all the days in the day value field (current day)\n",
    "my_list = []\n",
    "\n",
    "for key in key_list:\n",
    "    my_list.append(my_dict[key])\n",
    "\n",
    "df_q = pd.DataFrame (my_list) #data frame for the query\n",
    "df_q = df_q.T #transposed\n",
    "\n",
    "df_q = df_q.rename(columns={0: \"datetime\", 1: \"tempmax\", 2: \"tempmin\", 3: \"temp\", 4:\"feelslikemax\", 5: \"feelslikemin\", 6: \"feelslike\", 7: \"dew\", 8:\"humidity\", 9:\"precip\", 10:\"precipprob\", 11: \"precipcover\",\n",
    "                            12:\"preciptype\", 13:\"snow\", 14:\"snowdepth\", 15:\"windgust\", 16:\"windspeed\", 17:\"winddir\",\n",
    "                            18:\"cloudcover\", 19:\"visibility\",20:\"solarradiation\",21:\"solarenergy\",22:\"uvindex\",23:\"severerisk\",\n",
    "                            24:\"sunrise\",25:\"sunset\",26:\"moonphase\", 27:\"conditions\",28:\"description\",29:\"icon\", 30:\"stations\"  })\n",
    "\n",
    "df_q = df_q.drop(columns=['precipprob', 'preciptype', 'snow', 'severerisk', 'sunrise', 'sunset', 'description', 'icon', 'conditions', 'stations'])\n",
    "\n",
    "print(df_q)\n",
    "\n",
    "\n",
    "\n",
    "#NOTE: NEED TO MAKE ALL DATA BETWEEN 0 AND 1 (normalize)\n",
    "#check that everything is a float??\n"
   ]
  },
  {
   "cell_type": "code",
   "execution_count": null,
   "id": "6b951d47",
   "metadata": {},
   "outputs": [],
   "source": []
  }
 ],
 "metadata": {
  "kernelspec": {
   "display_name": "Python 3 (ipykernel)",
   "language": "python",
   "name": "python3"
  },
  "language_info": {
   "codemirror_mode": {
    "name": "ipython",
    "version": 3
   },
   "file_extension": ".py",
   "mimetype": "text/x-python",
   "name": "python",
   "nbconvert_exporter": "python",
   "pygments_lexer": "ipython3",
   "version": "3.8.16"
  },
  "vscode": {
   "interpreter": {
    "hash": "aee8b7b246df8f9039afb4144a1f6fd8d2ca17a180786b69acc140d282b71a49"
   }
  }
 },
 "nbformat": 4,
 "nbformat_minor": 5
}
