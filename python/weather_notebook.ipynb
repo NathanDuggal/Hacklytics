{
 "cells": [
  {
   "cell_type": "code",
   "execution_count": 1,
   "id": "50e0f28c",
   "metadata": {},
   "outputs": [],
   "source": [
    "#processing single query for current data\n",
    "\n",
    "import requests\n",
    "import sys\n",
    "import json\n",
    "\n",
    "import os\n",
    "import matplotlib.pyplot as plt\n",
    "import pandas as pd\n",
    "                \n",
    "\n",
    "response = requests.request(\"GET\", \"https://weather.visualcrossing.com/VisualCrossingWebServices/rest/services/timeline/atlanta?unitGroup=us&include=current&key=R9ZCEVVMLR3LJL43H33SFS4G4&contentType=json\")\n",
    "if response.status_code!=200:\n",
    "  print('Unexpected Status code: ', response.status_code)\n",
    "  sys.exit()  \n",
    "\n",
    "\n",
    "# Parse the results as JSON\n",
    "jsonData = response.json()\n",
    "\n",
    "\n"
   ]
  },
  {
   "cell_type": "code",
   "execution_count": 5,
   "id": "ccf9fe95",
   "metadata": {},
   "outputs": [
    {
     "name": "stdout",
     "output_type": "stream",
     "text": [
      "        datetime  tempmax  tempmin  temp  feelslikemax  feelslikemin  \\\n",
      "0     2017-05-01     74.9     63.9  70.0          74.9          63.9   \n",
      "1     2017-05-02     79.1     49.8  65.4          79.1          49.8   \n",
      "2     2017-05-03     83.0     52.6  69.8          80.8          52.6   \n",
      "3     2017-05-04     73.2     59.9  65.2          73.2          59.9   \n",
      "4     2017-05-05     57.7     48.8  51.8          57.7          44.1   \n",
      "...          ...      ...      ...   ...           ...           ...   \n",
      "1833  2023-02-06     64.6     40.3  51.6          64.6          38.5   \n",
      "1834  2023-02-07     66.8     36.7  51.5          66.8          36.7   \n",
      "1835  2023-02-08     72.0     50.2  60.9          72.0          50.2   \n",
      "1836  2023-02-09     68.7     52.4  61.9          68.7          52.4   \n",
      "1837  2023-02-10     59.5     47.8  53.3          59.5          44.7   \n",
      "\n",
      "      feelslike   dew  humidity  precip  ...  snowdepth  windgust windspeed  \\\n",
      "0          70.0  54.9      62.6   0.219  ...        0.0      30.8      16.6   \n",
      "1          65.4  41.1      45.2   0.000  ...        0.0      23.8      14.3   \n",
      "2          69.3  46.5      47.7   0.000  ...        0.0      20.8      10.8   \n",
      "3          65.2  58.1      81.0   0.814  ...        0.0      33.5      16.0   \n",
      "4          50.6  48.7      89.4   0.109  ...        0.0      26.6      15.0   \n",
      "...         ...   ...       ...     ...  ...        ...       ...       ...   \n",
      "1833       50.7  35.0      57.9   0.000  ...        0.0      20.8       9.2   \n",
      "1834       51.5  36.0      58.6   0.000  ...        0.0      13.9       8.5   \n",
      "1835       60.9  48.2      63.3   0.000  ...        0.0      15.0       8.9   \n",
      "1836       61.9  54.7      77.7   0.118  ...        0.0      26.4      13.0   \n",
      "1837       53.0  43.3      70.8   0.146  ...        0.0      21.9      10.2   \n",
      "\n",
      "      winddir  cloudcover  visibility  solarradiation  solarenergy  uvindex  \\\n",
      "0       216.2        46.9         9.6           211.2         18.5        8   \n",
      "1       281.9         0.9         9.9           344.8         30.0       10   \n",
      "2       182.4        16.7         9.9           333.3         29.0       10   \n",
      "3       153.9        71.8         8.0            85.1          7.4        3   \n",
      "4       245.1        76.9         8.9           219.3         19.0        8   \n",
      "...       ...         ...         ...             ...          ...      ...   \n",
      "1833    314.9         8.3         9.9           534.6         45.6        5   \n",
      "1834    155.1        33.6         9.9           534.3         45.8        5   \n",
      "1835    146.0        78.5         9.8           529.4         45.6        5   \n",
      "1836    198.4        84.6         9.1           529.5         45.6        5   \n",
      "1837    316.2        70.0         9.6           504.2         43.1        5   \n",
      "\n",
      "      moonphase  \n",
      "0          0.16  \n",
      "1          0.22  \n",
      "2          0.27  \n",
      "3          0.32  \n",
      "4          0.37  \n",
      "...         ...  \n",
      "1833       0.50  \n",
      "1834       0.52  \n",
      "1835       0.53  \n",
      "1836       0.56  \n",
      "1837       0.60  \n",
      "\n",
      "[1838 rows x 24 columns]\n"
     ]
    }
   ],
   "source": [
    "#processing all the weather data\n",
    "\n",
    "df = pd.read_csv(r'weatherData.csv') #df is dataframe\n",
    "\n",
    "#make all data numeric by dropping some columns\n",
    "#note: have to reassign df to the result of df.drop\n",
    "df = df.drop(columns=['name', 'severerisk', 'sunrise', 'sunset', 'description', 'sealevelpressure', 'icon', 'conditions', 'stations'])\n",
    "\n",
    "#print(type(df._get_value(0, 1, takeable = True)))\n",
    "\n",
    "print(df)\n",
    "df.to_csv('weathery.csv')\n",
    "\n"
   ]
  },
  {
   "cell_type": "code",
   "execution_count": 4,
   "id": "ed4cfd07",
   "metadata": {},
   "outputs": [
    {
     "name": "stdout",
     "output_type": "stream",
     "text": [
      "     datetime tempmax tempmin  temp feelslikemax feelslikemin feelslike   dew  \\\n",
      "0  2023-02-11    55.1    41.9  48.8         55.1         33.0      45.3  37.3   \n",
      "\n",
      "  humidity precip  ... snowdepth windgust windspeed winddir cloudcover  \\\n",
      "0     66.0  0.425  ...       0.0     43.6      27.5    60.3       74.1   \n",
      "\n",
      "  visibility solarradiation solarenergy uvindex moonphase  \n",
      "0        8.8          492.2        42.0     5.0      0.64  \n",
      "\n",
      "[1 rows x 21 columns]\n"
     ]
    }
   ],
   "source": [
    "import pandas as pd #pandas imported with alias!\n",
    "\n",
    "key_list = \"datetime,tempmax,tempmin,temp,feelslikemax,feelslikemin,feelslike,dew,humidity,precip,precipprob,precipcover,preciptype,snow,snowdepth,windgust,windspeed,winddir,cloudcover,visibility,solarradiation,solarenergy,uvindex,severerisk,sunrise,sunset,moonphase,conditions,description,icon,stations\".split(\",\")\n",
    "my_dict = jsonData[\"days\"][0] #get value of the key called \"days\". Get 0th value of all the days in the day value field (current day)\n",
    "my_list = []\n",
    "\n",
    "for key in key_list:\n",
    "    my_list.append(my_dict[key])\n",
    "\n",
    "df_q = pd.DataFrame (my_list) #data frame for the query\n",
    "df_q = df_q.T #transposed\n",
    "\n",
    "df_q = df_q.rename(columns={0: \"datetime\", 1: \"tempmax\", 2: \"tempmin\", 3: \"temp\", 4:\"feelslikemax\", 5: \"feelslikemin\", 6: \"feelslike\", 7: \"dew\", 8:\"humidity\", 9:\"precip\", 10:\"precipprob\", 11: \"precipcover\",\n",
    "                            12:\"preciptype\", 13:\"snow\", 14:\"snowdepth\", 15:\"windgust\", 16:\"windspeed\", 17:\"winddir\",\n",
    "                            18:\"cloudcover\", 19:\"visibility\",20:\"solarradiation\",21:\"solarenergy\",22:\"uvindex\",23:\"severerisk\",\n",
    "                            24:\"sunrise\",25:\"sunset\",26:\"moonphase\", 27:\"conditions\",28:\"description\",29:\"icon\", 30:\"stations\"  })\n",
    "\n",
    "df_q = df_q.drop(columns=['precipprob', 'preciptype', 'snow', 'severerisk', 'sunrise', 'sunset', 'description', 'icon', 'conditions', 'stations'])\n",
    "\n",
    "print(df_q)\n",
    "\n",
    "df_q.to_csv('weathery.csv')\n",
    "\n",
    "#NOTE: NEED TO MAKE ALL DATA BETWEEN 0 AND 1 (normalize)\n",
    "#check that everything is a float??\n"
   ]
  },
  {
   "cell_type": "code",
   "execution_count": null,
   "id": "b558854e",
   "metadata": {},
   "outputs": [],
   "source": [
    "# import sys\n",
    "\n",
    "# !$sys.executable -m pip install tensorflow\n",
    "\n",
    "import tensorflow as tf\n",
    "print(\"TensorFlow version:\", tf.__version__)\n",
    "\n",
    "from tensorflow.keras.layers import Dense, Flatten, Conv2D\n",
    "from tensorflow.keras import Model\n",
    "\n",
    "\n",
    "#print(\"dies\")\n"
   ]
  },
  {
   "cell_type": "code",
   "execution_count": null,
   "id": "6b951d47",
   "metadata": {},
   "outputs": [],
   "source": []
  }
 ],
 "metadata": {
  "kernelspec": {
   "display_name": "Python 3 (ipykernel)",
   "language": "python",
   "name": "python3"
  },
  "language_info": {
   "codemirror_mode": {
    "name": "ipython",
    "version": 3
   },
   "file_extension": ".py",
   "mimetype": "text/x-python",
   "name": "python",
   "nbconvert_exporter": "python",
   "pygments_lexer": "ipython3",
   "version": "3.9.7"
  },
  "vscode": {
   "interpreter": {
    "hash": "aee8b7b246df8f9039afb4144a1f6fd8d2ca17a180786b69acc140d282b71a49"
   }
  }
 },
 "nbformat": 4,
 "nbformat_minor": 5
}
