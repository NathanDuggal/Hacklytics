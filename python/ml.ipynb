{
 "cells": [
  {
   "cell_type": "code",
   "execution_count": 5,
   "id": "5f88952f",
   "metadata": {},
   "outputs": [
    {
     "name": "stdout",
     "output_type": "stream",
     "text": [
      "Requirement already satisfied: tensorflow in /Users/katherinehuang/opt/anaconda3/envs/tensyflow/lib/python3.8/site-packages (2.10.0)\n",
      "Requirement already satisfied: gast<=0.4.0,>=0.2.1 in /Users/katherinehuang/opt/anaconda3/envs/tensyflow/lib/python3.8/site-packages (from tensorflow) (0.4.0)\n",
      "Requirement already satisfied: typing-extensions>=3.6.6 in /Users/katherinehuang/opt/anaconda3/envs/tensyflow/lib/python3.8/site-packages (from tensorflow) (4.4.0)\n",
      "Requirement already satisfied: google-pasta>=0.1.1 in /Users/katherinehuang/opt/anaconda3/envs/tensyflow/lib/python3.8/site-packages (from tensorflow) (0.2.0)\n",
      "Requirement already satisfied: opt-einsum>=2.3.2 in /Users/katherinehuang/opt/anaconda3/envs/tensyflow/lib/python3.8/site-packages (from tensorflow) (3.3.0)\n",
      "Requirement already satisfied: tensorflow-io-gcs-filesystem>=0.23.1 in /Users/katherinehuang/opt/anaconda3/envs/tensyflow/lib/python3.8/site-packages (from tensorflow) (0.30.0)\n",
      "Requirement already satisfied: keras-preprocessing>=1.1.1 in /Users/katherinehuang/opt/anaconda3/envs/tensyflow/lib/python3.8/site-packages (from tensorflow) (1.1.2)\n",
      "Requirement already satisfied: packaging in /Users/katherinehuang/opt/anaconda3/envs/tensyflow/lib/python3.8/site-packages (from tensorflow) (22.0)\n",
      "Requirement already satisfied: protobuf<3.20,>=3.9.2 in /Users/katherinehuang/opt/anaconda3/envs/tensyflow/lib/python3.8/site-packages (from tensorflow) (3.19.6)\n",
      "Requirement already satisfied: tensorflow-estimator<2.11,>=2.10.0 in /Users/katherinehuang/opt/anaconda3/envs/tensyflow/lib/python3.8/site-packages (from tensorflow) (2.10.0)\n",
      "Requirement already satisfied: absl-py>=1.0.0 in /Users/katherinehuang/opt/anaconda3/envs/tensyflow/lib/python3.8/site-packages (from tensorflow) (1.3.0)\n",
      "Requirement already satisfied: h5py>=2.9.0 in /Users/katherinehuang/opt/anaconda3/envs/tensyflow/lib/python3.8/site-packages (from tensorflow) (3.7.0)\n",
      "Requirement already satisfied: astunparse>=1.6.0 in /Users/katherinehuang/opt/anaconda3/envs/tensyflow/lib/python3.8/site-packages (from tensorflow) (1.6.3)\n",
      "Requirement already satisfied: numpy>=1.20 in /Users/katherinehuang/opt/anaconda3/envs/tensyflow/lib/python3.8/site-packages (from tensorflow) (1.23.5)\n",
      "Requirement already satisfied: flatbuffers>=2.0 in /Users/katherinehuang/opt/anaconda3/envs/tensyflow/lib/python3.8/site-packages (from tensorflow) (2.0)\n",
      "Requirement already satisfied: tensorboard<2.11,>=2.10 in /Users/katherinehuang/opt/anaconda3/envs/tensyflow/lib/python3.8/site-packages (from tensorflow) (2.10.0)\n",
      "Requirement already satisfied: wrapt>=1.11.0 in /Users/katherinehuang/opt/anaconda3/envs/tensyflow/lib/python3.8/site-packages (from tensorflow) (1.14.1)\n",
      "Requirement already satisfied: setuptools in /Users/katherinehuang/opt/anaconda3/envs/tensyflow/lib/python3.8/site-packages (from tensorflow) (65.6.3)\n",
      "Requirement already satisfied: termcolor>=1.1.0 in /Users/katherinehuang/opt/anaconda3/envs/tensyflow/lib/python3.8/site-packages (from tensorflow) (2.1.0)\n",
      "Requirement already satisfied: keras<2.11,>=2.10.0 in /Users/katherinehuang/opt/anaconda3/envs/tensyflow/lib/python3.8/site-packages (from tensorflow) (2.10.0)\n",
      "Requirement already satisfied: six>=1.12.0 in /Users/katherinehuang/opt/anaconda3/envs/tensyflow/lib/python3.8/site-packages (from tensorflow) (1.16.0)\n",
      "Requirement already satisfied: grpcio<2.0,>=1.24.3 in /Users/katherinehuang/opt/anaconda3/envs/tensyflow/lib/python3.8/site-packages (from tensorflow) (1.42.0)\n",
      "Requirement already satisfied: libclang>=13.0.0 in /Users/katherinehuang/opt/anaconda3/envs/tensyflow/lib/python3.8/site-packages (from tensorflow) (15.0.6.1)\n",
      "Requirement already satisfied: wheel<1.0,>=0.23.0 in /Users/katherinehuang/opt/anaconda3/envs/tensyflow/lib/python3.8/site-packages (from astunparse>=1.6.0->tensorflow) (0.35.1)\n",
      "Requirement already satisfied: tensorboard-plugin-wit>=1.6.0 in /Users/katherinehuang/opt/anaconda3/envs/tensyflow/lib/python3.8/site-packages (from tensorboard<2.11,>=2.10->tensorflow) (1.6.0)\n",
      "Requirement already satisfied: markdown>=2.6.8 in /Users/katherinehuang/opt/anaconda3/envs/tensyflow/lib/python3.8/site-packages (from tensorboard<2.11,>=2.10->tensorflow) (3.4.1)\n",
      "Requirement already satisfied: google-auth-oauthlib<0.5,>=0.4.1 in /Users/katherinehuang/opt/anaconda3/envs/tensyflow/lib/python3.8/site-packages (from tensorboard<2.11,>=2.10->tensorflow) (0.4.4)\n",
      "Requirement already satisfied: werkzeug>=1.0.1 in /Users/katherinehuang/opt/anaconda3/envs/tensyflow/lib/python3.8/site-packages (from tensorboard<2.11,>=2.10->tensorflow) (2.2.2)\n",
      "Requirement already satisfied: google-auth<3,>=1.6.3 in /Users/katherinehuang/opt/anaconda3/envs/tensyflow/lib/python3.8/site-packages (from tensorboard<2.11,>=2.10->tensorflow) (2.6.0)\n",
      "Requirement already satisfied: tensorboard-data-server<0.7.0,>=0.6.0 in /Users/katherinehuang/opt/anaconda3/envs/tensyflow/lib/python3.8/site-packages (from tensorboard<2.11,>=2.10->tensorflow) (0.6.1)\n",
      "Requirement already satisfied: requests<3,>=2.21.0 in /Users/katherinehuang/opt/anaconda3/envs/tensyflow/lib/python3.8/site-packages (from tensorboard<2.11,>=2.10->tensorflow) (2.28.1)\n",
      "Requirement already satisfied: pyasn1-modules>=0.2.1 in /Users/katherinehuang/opt/anaconda3/envs/tensyflow/lib/python3.8/site-packages (from google-auth<3,>=1.6.3->tensorboard<2.11,>=2.10->tensorflow) (0.2.8)\n",
      "Requirement already satisfied: rsa<5,>=3.1.4 in /Users/katherinehuang/opt/anaconda3/envs/tensyflow/lib/python3.8/site-packages (from google-auth<3,>=1.6.3->tensorboard<2.11,>=2.10->tensorflow) (4.7.2)\n",
      "Requirement already satisfied: cachetools<6.0,>=2.0.0 in /Users/katherinehuang/opt/anaconda3/envs/tensyflow/lib/python3.8/site-packages (from google-auth<3,>=1.6.3->tensorboard<2.11,>=2.10->tensorflow) (4.2.2)\n",
      "Requirement already satisfied: requests-oauthlib>=0.7.0 in /Users/katherinehuang/opt/anaconda3/envs/tensyflow/lib/python3.8/site-packages (from google-auth-oauthlib<0.5,>=0.4.1->tensorboard<2.11,>=2.10->tensorflow) (1.3.0)\n",
      "Requirement already satisfied: importlib-metadata>=4.4 in /Users/katherinehuang/opt/anaconda3/envs/tensyflow/lib/python3.8/site-packages (from markdown>=2.6.8->tensorboard<2.11,>=2.10->tensorflow) (4.11.3)\n",
      "Requirement already satisfied: urllib3<1.27,>=1.21.1 in /Users/katherinehuang/opt/anaconda3/envs/tensyflow/lib/python3.8/site-packages (from requests<3,>=2.21.0->tensorboard<2.11,>=2.10->tensorflow) (1.26.14)\n",
      "Requirement already satisfied: idna<4,>=2.5 in /Users/katherinehuang/opt/anaconda3/envs/tensyflow/lib/python3.8/site-packages (from requests<3,>=2.21.0->tensorboard<2.11,>=2.10->tensorflow) (3.4)\n",
      "Requirement already satisfied: charset-normalizer<3,>=2 in /Users/katherinehuang/opt/anaconda3/envs/tensyflow/lib/python3.8/site-packages (from requests<3,>=2.21.0->tensorboard<2.11,>=2.10->tensorflow) (2.0.4)\n",
      "Requirement already satisfied: certifi>=2017.4.17 in /Users/katherinehuang/opt/anaconda3/envs/tensyflow/lib/python3.8/site-packages (from requests<3,>=2.21.0->tensorboard<2.11,>=2.10->tensorflow) (2022.12.7)\n",
      "Requirement already satisfied: MarkupSafe>=2.1.1 in /Users/katherinehuang/opt/anaconda3/envs/tensyflow/lib/python3.8/site-packages (from werkzeug>=1.0.1->tensorboard<2.11,>=2.10->tensorflow) (2.1.1)\n",
      "Requirement already satisfied: zipp>=0.5 in /Users/katherinehuang/opt/anaconda3/envs/tensyflow/lib/python3.8/site-packages (from importlib-metadata>=4.4->markdown>=2.6.8->tensorboard<2.11,>=2.10->tensorflow) (3.11.0)\n",
      "Requirement already satisfied: pyasn1<0.5.0,>=0.4.6 in /Users/katherinehuang/opt/anaconda3/envs/tensyflow/lib/python3.8/site-packages (from pyasn1-modules>=0.2.1->google-auth<3,>=1.6.3->tensorboard<2.11,>=2.10->tensorflow) (0.4.8)\n",
      "Requirement already satisfied: oauthlib>=3.0.0 in /Users/katherinehuang/opt/anaconda3/envs/tensyflow/lib/python3.8/site-packages (from requests-oauthlib>=0.7.0->google-auth-oauthlib<0.5,>=0.4.1->tensorboard<2.11,>=2.10->tensorflow) (3.2.1)\n",
      "TensorFlow version: 2.10.0\n",
      "dies\n"
     ]
    }
   ],
   "source": [
    "#supervised learning (trial and error)\n",
    "#as opposed to unsupervised (takes in data and puts into clusters)\n",
    "\n",
    "import sys\n",
    "\n",
    "!$sys.executable -m pip install tensorflow\n",
    "\n",
    "import tensorflow as tf\n",
    "print(\"TensorFlow version:\", tf.__version__)\n",
    "\n",
    "from tensorflow.keras.layers import Dense, Flatten, Conv2D\n",
    "from tensorflow.keras import Model\n",
    "import numpy as np\n",
    "\n",
    "print(\"dies\")\n"
   ]
  },
  {
   "cell_type": "code",
   "execution_count": 71,
   "id": "702ebb51",
   "metadata": {},
   "outputs": [
    {
     "name": "stdout",
     "output_type": "stream",
     "text": [
      "Requirement already satisfied: scikit-learn in /Users/katherinehuang/opt/anaconda3/envs/tensyflow/lib/python3.8/site-packages (1.2.1)\n",
      "Requirement already satisfied: joblib>=1.1.1 in /Users/katherinehuang/opt/anaconda3/envs/tensyflow/lib/python3.8/site-packages (from scikit-learn) (1.2.0)\n",
      "Requirement already satisfied: scipy>=1.3.2 in /Users/katherinehuang/opt/anaconda3/envs/tensyflow/lib/python3.8/site-packages (from scikit-learn) (1.10.0)\n",
      "Requirement already satisfied: numpy>=1.17.3 in /Users/katherinehuang/opt/anaconda3/envs/tensyflow/lib/python3.8/site-packages (from scikit-learn) (1.23.5)\n",
      "Requirement already satisfied: threadpoolctl>=2.0.0 in /Users/katherinehuang/opt/anaconda3/envs/tensyflow/lib/python3.8/site-packages (from scikit-learn) (3.1.0)\n",
      "Requirement already satisfied: keras in /Users/katherinehuang/opt/anaconda3/envs/tensyflow/lib/python3.8/site-packages (2.10.0)\n",
      "(23244, 36)\n"
     ]
    }
   ],
   "source": [
    "import pandas as pd\n",
    "\n",
    "!$sys.executable -m pip install scikit-learn\n",
    "!$sys.executable -m pip install keras\n",
    "\n",
    "from sklearn import preprocessing\n",
    "\n",
    "df_x = pd.read_csv('X.csv')\n",
    "del df_x[df_x.columns[0]]\n",
    "#df_x = df_x.pop(df_x.columns[0]) #kot\n",
    "dataset_x = df_x.values\n",
    "\n",
    "\n",
    "df_y = pd.read_csv('Y.csv')\n",
    "del df_y[df_y.columns[0]]\n",
    "dataset_y = df_y.values\n",
    "\n",
    "\n",
    "X = dataset_x\n",
    "Y = dataset_y\n",
    "\n",
    "all_datas = np.hstack((dataset_x, dataset_y))\n",
    "#all_datas = all_datas[0:100] #10,000 is good\n",
    "\n",
    "\n",
    "df_m = pd.DataFrame(all_datas)\n",
    "print(df_m.shape)\n",
    "\n",
    "#lol making everything into one big df\n",
    "#result = pd.merge(df_x, df_y)\n",
    "#result = df_x.merge(df_y, left_on='lkey', right_on='rkey', suffixes=(False, False))\n",
    "#end of lol\n",
    "\n",
    "\n",
    "#print(all_datas.shape)\n",
    "#print(result.shape)\n",
    "#print(X.shape)\n",
    "\n",
    "\n",
    "\n",
    "\n",
    "minimum = np.array(df_x.min(axis=0))\n",
    "maximum = np.array(df_x.max(axis=0))\n",
    "    \n",
    "\n",
    "min_max_scaler = preprocessing.MinMaxScaler() #normalizes X\n",
    "X_scale = min_max_scaler.fit_transform(X)\n",
    "\n",
    "\n",
    "#np.savetxt(\"X_scale.csv\", X_scale, delimiter = \",\") #to output to a file\n",
    "\n"
   ]
  },
  {
   "cell_type": "code",
   "execution_count": 72,
   "id": "58d0631f",
   "metadata": {},
   "outputs": [
    {
     "name": "stdout",
     "output_type": "stream",
     "text": [
      "Requirement already satisfied: seaborn in /Users/katherinehuang/opt/anaconda3/envs/tensyflow/lib/python3.8/site-packages (0.12.2)\n",
      "Requirement already satisfied: numpy!=1.24.0,>=1.17 in /Users/katherinehuang/opt/anaconda3/envs/tensyflow/lib/python3.8/site-packages (from seaborn) (1.23.5)\n",
      "Requirement already satisfied: pandas>=0.25 in /Users/katherinehuang/opt/anaconda3/envs/tensyflow/lib/python3.8/site-packages (from seaborn) (1.5.3)\n",
      "Requirement already satisfied: matplotlib!=3.6.1,>=3.1 in /Users/katherinehuang/opt/anaconda3/envs/tensyflow/lib/python3.8/site-packages (from seaborn) (3.6.3)\n",
      "Requirement already satisfied: packaging>=20.0 in /Users/katherinehuang/opt/anaconda3/envs/tensyflow/lib/python3.8/site-packages (from matplotlib!=3.6.1,>=3.1->seaborn) (22.0)\n",
      "Requirement already satisfied: contourpy>=1.0.1 in /Users/katherinehuang/opt/anaconda3/envs/tensyflow/lib/python3.8/site-packages (from matplotlib!=3.6.1,>=3.1->seaborn) (1.0.7)\n",
      "Requirement already satisfied: cycler>=0.10 in /Users/katherinehuang/opt/anaconda3/envs/tensyflow/lib/python3.8/site-packages (from matplotlib!=3.6.1,>=3.1->seaborn) (0.11.0)\n",
      "Requirement already satisfied: fonttools>=4.22.0 in /Users/katherinehuang/opt/anaconda3/envs/tensyflow/lib/python3.8/site-packages (from matplotlib!=3.6.1,>=3.1->seaborn) (4.38.0)\n",
      "Requirement already satisfied: pyparsing>=2.2.1 in /Users/katherinehuang/opt/anaconda3/envs/tensyflow/lib/python3.8/site-packages (from matplotlib!=3.6.1,>=3.1->seaborn) (3.0.9)\n",
      "Requirement already satisfied: pillow>=6.2.0 in /Users/katherinehuang/opt/anaconda3/envs/tensyflow/lib/python3.8/site-packages (from matplotlib!=3.6.1,>=3.1->seaborn) (9.4.0)\n",
      "Requirement already satisfied: python-dateutil>=2.7 in /Users/katherinehuang/opt/anaconda3/envs/tensyflow/lib/python3.8/site-packages (from matplotlib!=3.6.1,>=3.1->seaborn) (2.8.2)\n",
      "Requirement already satisfied: kiwisolver>=1.0.1 in /Users/katherinehuang/opt/anaconda3/envs/tensyflow/lib/python3.8/site-packages (from matplotlib!=3.6.1,>=3.1->seaborn) (1.4.4)\n",
      "Requirement already satisfied: pytz>=2020.1 in /Users/katherinehuang/opt/anaconda3/envs/tensyflow/lib/python3.8/site-packages (from pandas>=0.25->seaborn) (2022.7.1)\n",
      "Requirement already satisfied: six>=1.5 in /Users/katherinehuang/opt/anaconda3/envs/tensyflow/lib/python3.8/site-packages (from python-dateutil>=2.7->matplotlib!=3.6.1,>=3.1->seaborn) (1.16.0)\n"
     ]
    },
    {
     "data": {
      "image/png": "[encoded data removed]",
      "text/plain": [
       "<Figure size 640x480 with 2 Axes>"
      ]
     },
     "metadata": {},
     "output_type": "display_data"
    }
   ],
   "source": [
    "!$sys.executable -m pip install seaborn\n",
    "import matplotlib.pyplot as mp\n",
    "import seaborn as sb\n",
    "\n",
    "\n",
    "# corrmat = result.corr()\n",
    "# print(corrmat)\n",
    "# most_corr_features = corrmat.index\n",
    "# print(corrmat.index)\n",
    "\n",
    "#mp.figure(figsize=(52,52))\n",
    "#plot heat map\n",
    "dataplot=sb.heatmap(df_m.corr(),annot=False,cmap=\"RdYlGn\")\n",
    "\n",
    "mp.show()\n"
   ]
  },
  {
   "cell_type": "code",
   "execution_count": 8,
   "id": "d54149cb",
   "metadata": {},
   "outputs": [
    {
     "name": "stdout",
     "output_type": "stream",
     "text": [
      "(16270, 22) (3487, 22) (3487, 22) (16270, 14) (3487, 14) (3487, 14)\n"
     ]
    }
   ],
   "source": [
    "from sklearn.model_selection import train_test_split\n",
    "import numpy as np\n",
    "\n",
    "X_train, X_val_and_test, Y_train, Y_val_and_test = train_test_split(X_scale, Y, test_size=0.3)\n",
    "\n",
    "X_val, X_test, Y_val, Y_test = train_test_split(X_val_and_test, Y_val_and_test, test_size=0.5)\n",
    "\n",
    "#X_train = np.asarray(X_train).astype('float32').reshape((-1,1))\n",
    "#X_test = np.asarray(X_test).astype('float32').reshape((-1,1))\n",
    "\n",
    "print(X_train.shape, X_val.shape, X_test.shape, Y_train.shape, Y_val.shape, Y_test.shape)"
   ]
  },
  {
   "cell_type": "code",
   "execution_count": 37,
   "id": "3717fe4a",
   "metadata": {},
   "outputs": [
    {
     "name": "stdout",
     "output_type": "stream",
     "text": [
      "Epoch 1/8\n",
      "32/32 [==============================] - 6s 131ms/step - loss: 5080412160.0000\n",
      "Epoch 2/8\n",
      "32/32 [==============================] - 4s 128ms/step - loss: 5080405504.0000\n",
      "Epoch 3/8\n",
      "32/32 [==============================] - 4s 131ms/step - loss: 5080405504.0000\n",
      "Epoch 4/8\n",
      "32/32 [==============================] - 4s 134ms/step - loss: 5080405504.0000\n",
      "Epoch 5/8\n",
      "32/32 [==============================] - 4s 130ms/step - loss: 5080405504.0000\n",
      "Epoch 6/8\n",
      "32/32 [==============================] - 4s 129ms/step - loss: 5080406528.0000\n",
      "Epoch 7/8\n",
      "32/32 [==============================] - 4s 128ms/step - loss: 5080406016.0000\n",
      "Epoch 8/8\n",
      "32/32 [==============================] - 4s 133ms/step - loss: 5080405504.0000\n"
     ]
    },
    {
     "data": {
      "text/plain": [
       "<keras.callbacks.History at 0x7fabf10b28e0>"
      ]
     },
     "execution_count": 37,
     "metadata": {},
     "output_type": "execute_result"
    }
   ],
   "source": [
    "#Kot: added some imports\n",
    "from keras.models import Sequential\n",
    "from keras.layers import Dense, Dropout\n",
    "from keras import regularizers\n",
    "\n",
    "from keras.layers import LSTM #trying a new model\n",
    "\n",
    "\n",
    "#lower learning rate??\n",
    "# from keras import backend as K\n",
    "# K.set_value(model_3.optimizer.learning_rate, 0.001)\n",
    "\n",
    "\n",
    "\n",
    "#old model that failed\n",
    "# model_3 = Sequential([\n",
    "#     Dense(1000, activation='relu', kernel_regularizer=regularizers.l2(0.01), input_shape=(22,)),\n",
    "#     Dropout(0.2), #used to be 0.3\n",
    "#     Dense(1000, activation='relu', kernel_regularizer=regularizers.l2(0.01)),\n",
    "#     Dropout(0.2), #used to be 0.3\n",
    "# #     Dense(1000, activation='relu', kernel_regularizer=regularizers.l2(0.01)),\n",
    "# #     Dropout(0.3),\n",
    "# #     Dense(1000, activation='relu', kernel_regularizer=regularizers.l2(0.01)),\n",
    "# #     Dropout(0.3),\n",
    "#     Dense(14, activation='sigmoid', kernel_regularizer=regularizers.l2(0.01)),\n",
    "# ])\n",
    "\n",
    "\n",
    "# model_3.compile(optimizer='adam',\n",
    "#               loss='mean_squared_error', #used to be binary_crossentropy\n",
    "#               metrics=['mean_squared_error']) #used to be accuracy, but apparently that's for classification problems\n",
    "\n",
    "# hist_3 = model_3.fit(X_train, Y_train,\n",
    "#           batch_size=32, epochs=20) #batch size used to be 32\n",
    "\n",
    "\n",
    "model = Sequential()\n",
    "model.add(LSTM(units=25,return_sequences=True,input_shape=(X_train.shape[1], 1))) #units used to be 50\n",
    "\n",
    "# model.add(Dropout(0.2))\n",
    "# model.add(LSTM(units=50,return_sequences=True))\n",
    "# model.add(Dropout(0.2))\n",
    "# model.add(LSTM(units=50,return_sequences=True))\n",
    "# model.add(Dropout(0.2))\n",
    "# model.add(LSTM(units=15)) #units used to be 50\n",
    "# model.add(Dropout(0.2))\n",
    "\n",
    "model.add(LSTM(256, dropout = 0.3, recurrent_dropout = 0.3))\n",
    "model.add(Dense(256, activation = 'relu'))\n",
    "model.add(Dropout(0.3))\n",
    "model.add(Dense(14, activation = 'softmax'))\n",
    "\n",
    "#model.add(Dense(units=14))\n",
    "model.compile(optimizer='adam',loss='mean_squared_error')\n",
    "model.fit(X_train,Y_train,epochs=8,batch_size=512) #was 60 epochs"
   ]
  },
  {
   "cell_type": "code",
   "execution_count": 14,
   "id": "c9501d87",
   "metadata": {},
   "outputs": [
    {
     "name": "stdout",
     "output_type": "stream",
     "text": [
      "Requirement already satisfied: tensorflow in /Users/katherinehuang/opt/anaconda3/envs/tensyflow/lib/python3.8/site-packages (2.10.0)\n",
      "Requirement already satisfied: numpy>=1.20 in /Users/katherinehuang/opt/anaconda3/envs/tensyflow/lib/python3.8/site-packages (from tensorflow) (1.23.5)\n",
      "Requirement already satisfied: keras<2.11,>=2.10.0 in /Users/katherinehuang/opt/anaconda3/envs/tensyflow/lib/python3.8/site-packages (from tensorflow) (2.10.0)\n",
      "Requirement already satisfied: flatbuffers>=2.0 in /Users/katherinehuang/opt/anaconda3/envs/tensyflow/lib/python3.8/site-packages (from tensorflow) (2.0)\n",
      "Requirement already satisfied: packaging in /Users/katherinehuang/opt/anaconda3/envs/tensyflow/lib/python3.8/site-packages (from tensorflow) (22.0)\n",
      "Requirement already satisfied: keras-preprocessing>=1.1.1 in /Users/katherinehuang/opt/anaconda3/envs/tensyflow/lib/python3.8/site-packages (from tensorflow) (1.1.2)\n",
      "Requirement already satisfied: setuptools in /Users/katherinehuang/opt/anaconda3/envs/tensyflow/lib/python3.8/site-packages (from tensorflow) (65.6.3)\n",
      "Requirement already satisfied: tensorboard<2.11,>=2.10 in /Users/katherinehuang/opt/anaconda3/envs/tensyflow/lib/python3.8/site-packages (from tensorflow) (2.10.0)\n",
      "Requirement already satisfied: protobuf<3.20,>=3.9.2 in /Users/katherinehuang/opt/anaconda3/envs/tensyflow/lib/python3.8/site-packages (from tensorflow) (3.19.6)\n",
      "Requirement already satisfied: h5py>=2.9.0 in /Users/katherinehuang/opt/anaconda3/envs/tensyflow/lib/python3.8/site-packages (from tensorflow) (3.7.0)\n",
      "Requirement already satisfied: google-pasta>=0.1.1 in /Users/katherinehuang/opt/anaconda3/envs/tensyflow/lib/python3.8/site-packages (from tensorflow) (0.2.0)\n",
      "Requirement already satisfied: libclang>=13.0.0 in /Users/katherinehuang/opt/anaconda3/envs/tensyflow/lib/python3.8/site-packages (from tensorflow) (15.0.6.1)\n",
      "Requirement already satisfied: astunparse>=1.6.0 in /Users/katherinehuang/opt/anaconda3/envs/tensyflow/lib/python3.8/site-packages (from tensorflow) (1.6.3)\n",
      "Requirement already satisfied: termcolor>=1.1.0 in /Users/katherinehuang/opt/anaconda3/envs/tensyflow/lib/python3.8/site-packages (from tensorflow) (2.1.0)\n",
      "Requirement already satisfied: six>=1.12.0 in /Users/katherinehuang/opt/anaconda3/envs/tensyflow/lib/python3.8/site-packages (from tensorflow) (1.16.0)\n",
      "Requirement already satisfied: gast<=0.4.0,>=0.2.1 in /Users/katherinehuang/opt/anaconda3/envs/tensyflow/lib/python3.8/site-packages (from tensorflow) (0.4.0)\n",
      "Requirement already satisfied: typing-extensions>=3.6.6 in /Users/katherinehuang/opt/anaconda3/envs/tensyflow/lib/python3.8/site-packages (from tensorflow) (4.4.0)\n",
      "Requirement already satisfied: absl-py>=1.0.0 in /Users/katherinehuang/opt/anaconda3/envs/tensyflow/lib/python3.8/site-packages (from tensorflow) (1.3.0)\n",
      "Requirement already satisfied: grpcio<2.0,>=1.24.3 in /Users/katherinehuang/opt/anaconda3/envs/tensyflow/lib/python3.8/site-packages (from tensorflow) (1.42.0)\n",
      "Requirement already satisfied: wrapt>=1.11.0 in /Users/katherinehuang/opt/anaconda3/envs/tensyflow/lib/python3.8/site-packages (from tensorflow) (1.14.1)\n",
      "Requirement already satisfied: tensorflow-io-gcs-filesystem>=0.23.1 in /Users/katherinehuang/opt/anaconda3/envs/tensyflow/lib/python3.8/site-packages (from tensorflow) (0.30.0)\n",
      "Requirement already satisfied: tensorflow-estimator<2.11,>=2.10.0 in /Users/katherinehuang/opt/anaconda3/envs/tensyflow/lib/python3.8/site-packages (from tensorflow) (2.10.0)\n",
      "Requirement already satisfied: opt-einsum>=2.3.2 in /Users/katherinehuang/opt/anaconda3/envs/tensyflow/lib/python3.8/site-packages (from tensorflow) (3.3.0)\n",
      "Requirement already satisfied: wheel<1.0,>=0.23.0 in /Users/katherinehuang/opt/anaconda3/envs/tensyflow/lib/python3.8/site-packages (from astunparse>=1.6.0->tensorflow) (0.35.1)\n",
      "Requirement already satisfied: markdown>=2.6.8 in /Users/katherinehuang/opt/anaconda3/envs/tensyflow/lib/python3.8/site-packages (from tensorboard<2.11,>=2.10->tensorflow) (3.4.1)\n",
      "Requirement already satisfied: werkzeug>=1.0.1 in /Users/katherinehuang/opt/anaconda3/envs/tensyflow/lib/python3.8/site-packages (from tensorboard<2.11,>=2.10->tensorflow) (2.2.2)\n",
      "Requirement already satisfied: tensorboard-plugin-wit>=1.6.0 in /Users/katherinehuang/opt/anaconda3/envs/tensyflow/lib/python3.8/site-packages (from tensorboard<2.11,>=2.10->tensorflow) (1.6.0)\n",
      "Requirement already satisfied: requests<3,>=2.21.0 in /Users/katherinehuang/opt/anaconda3/envs/tensyflow/lib/python3.8/site-packages (from tensorboard<2.11,>=2.10->tensorflow) (2.28.1)\n",
      "Requirement already satisfied: google-auth<3,>=1.6.3 in /Users/katherinehuang/opt/anaconda3/envs/tensyflow/lib/python3.8/site-packages (from tensorboard<2.11,>=2.10->tensorflow) (2.6.0)\n",
      "Requirement already satisfied: google-auth-oauthlib<0.5,>=0.4.1 in /Users/katherinehuang/opt/anaconda3/envs/tensyflow/lib/python3.8/site-packages (from tensorboard<2.11,>=2.10->tensorflow) (0.4.4)\n",
      "Requirement already satisfied: tensorboard-data-server<0.7.0,>=0.6.0 in /Users/katherinehuang/opt/anaconda3/envs/tensyflow/lib/python3.8/site-packages (from tensorboard<2.11,>=2.10->tensorflow) (0.6.1)\n",
      "Requirement already satisfied: rsa<5,>=3.1.4 in /Users/katherinehuang/opt/anaconda3/envs/tensyflow/lib/python3.8/site-packages (from google-auth<3,>=1.6.3->tensorboard<2.11,>=2.10->tensorflow) (4.7.2)\n",
      "Requirement already satisfied: pyasn1-modules>=0.2.1 in /Users/katherinehuang/opt/anaconda3/envs/tensyflow/lib/python3.8/site-packages (from google-auth<3,>=1.6.3->tensorboard<2.11,>=2.10->tensorflow) (0.2.8)\n",
      "Requirement already satisfied: cachetools<6.0,>=2.0.0 in /Users/katherinehuang/opt/anaconda3/envs/tensyflow/lib/python3.8/site-packages (from google-auth<3,>=1.6.3->tensorboard<2.11,>=2.10->tensorflow) (4.2.2)\n",
      "Requirement already satisfied: requests-oauthlib>=0.7.0 in /Users/katherinehuang/opt/anaconda3/envs/tensyflow/lib/python3.8/site-packages (from google-auth-oauthlib<0.5,>=0.4.1->tensorboard<2.11,>=2.10->tensorflow) (1.3.0)\n",
      "Requirement already satisfied: importlib-metadata>=4.4 in /Users/katherinehuang/opt/anaconda3/envs/tensyflow/lib/python3.8/site-packages (from markdown>=2.6.8->tensorboard<2.11,>=2.10->tensorflow) (4.11.3)\n",
      "Requirement already satisfied: urllib3<1.27,>=1.21.1 in /Users/katherinehuang/opt/anaconda3/envs/tensyflow/lib/python3.8/site-packages (from requests<3,>=2.21.0->tensorboard<2.11,>=2.10->tensorflow) (1.26.14)\n",
      "Requirement already satisfied: charset-normalizer<3,>=2 in /Users/katherinehuang/opt/anaconda3/envs/tensyflow/lib/python3.8/site-packages (from requests<3,>=2.21.0->tensorboard<2.11,>=2.10->tensorflow) (2.0.4)\n",
      "Requirement already satisfied: certifi>=2017.4.17 in /Users/katherinehuang/opt/anaconda3/envs/tensyflow/lib/python3.8/site-packages (from requests<3,>=2.21.0->tensorboard<2.11,>=2.10->tensorflow) (2022.12.7)\n",
      "Requirement already satisfied: idna<4,>=2.5 in /Users/katherinehuang/opt/anaconda3/envs/tensyflow/lib/python3.8/site-packages (from requests<3,>=2.21.0->tensorboard<2.11,>=2.10->tensorflow) (3.4)\n",
      "Requirement already satisfied: MarkupSafe>=2.1.1 in /Users/katherinehuang/opt/anaconda3/envs/tensyflow/lib/python3.8/site-packages (from werkzeug>=1.0.1->tensorboard<2.11,>=2.10->tensorflow) (2.1.1)\n",
      "Requirement already satisfied: zipp>=0.5 in /Users/katherinehuang/opt/anaconda3/envs/tensyflow/lib/python3.8/site-packages (from importlib-metadata>=4.4->markdown>=2.6.8->tensorboard<2.11,>=2.10->tensorflow) (3.11.0)\n",
      "Requirement already satisfied: pyasn1<0.5.0,>=0.4.6 in /Users/katherinehuang/opt/anaconda3/envs/tensyflow/lib/python3.8/site-packages (from pyasn1-modules>=0.2.1->google-auth<3,>=1.6.3->tensorboard<2.11,>=2.10->tensorflow) (0.4.8)\n",
      "Requirement already satisfied: oauthlib>=3.0.0 in /Users/katherinehuang/opt/anaconda3/envs/tensyflow/lib/python3.8/site-packages (from requests-oauthlib>=0.7.0->google-auth-oauthlib<0.5,>=0.4.1->tensorboard<2.11,>=2.10->tensorflow) (3.2.1)\n",
      "Note: you may need to restart the kernel to use updated packages.\n"
     ]
    }
   ],
   "source": [
    "#Kot: Already installed it at the top\n",
    "\n",
    "pip install tensorflow\n"
   ]
  },
  {
   "cell_type": "code",
   "execution_count": 39,
   "id": "153a6cc2",
   "metadata": {},
   "outputs": [
    {
     "name": "stdout",
     "output_type": "stream",
     "text": [
      "1/1 [==============================] - 0s 24ms/step\n",
      "[[7.21488773e-15 1.10664941e-16 4.79216004e-17 4.81623844e-18\n",
      "  2.40721576e-16 6.16248696e-17 6.16886088e-17 3.87700070e-20\n",
      "  2.77080465e-16 4.85514488e-17 1.03439902e-16 1.00000000e+00\n",
      "  4.26284892e-19 8.77802676e-17]\n",
      " [7.18007383e-15 1.10079700e-16 4.76927261e-17 4.79078650e-18\n",
      "  2.39563681e-16 6.13230612e-17 6.14127209e-17 3.85424742e-20\n",
      "  2.75705598e-16 4.83215951e-17 1.03007935e-16 1.00000000e+00\n",
      "  4.24032143e-19 8.73700258e-17]\n",
      " [7.11520805e-15 1.08938436e-16 4.71556113e-17 4.73717651e-18\n",
      "  2.37254590e-16 6.06650688e-17 6.08063976e-17 3.80443564e-20\n",
      "  2.73164817e-16 4.77901581e-17 1.01926380e-16 1.00000000e+00\n",
      "  4.18863453e-19 8.64510149e-17]\n",
      " [7.19864079e-15 1.10374038e-16 4.77943535e-17 4.80418311e-18\n",
      "  2.40175822e-16 6.14717883e-17 6.15593172e-17 3.86480366e-20\n",
      "  2.76453343e-16 4.84278878e-17 1.03193964e-16 1.00000000e+00\n",
      "  4.25143228e-19 8.75558635e-17]\n",
      " [7.20748805e-15 1.10533306e-16 4.78627713e-17 4.80922560e-18\n",
      "  2.40404997e-16 6.15428795e-17 6.16070025e-17 3.87110413e-20\n",
      "  2.76723440e-16 4.84911076e-17 1.03316070e-16 1.00000000e+00\n",
      "  4.25675518e-19 8.76571236e-17]\n",
      " [7.14106712e-15 1.09381494e-16 4.73585981e-17 4.75863896e-18\n",
      "  2.38174997e-16 6.09222558e-17 6.10513754e-17 3.82342202e-20\n",
      "  2.74183744e-16 4.79938629e-17 1.02335066e-16 1.00000000e+00\n",
      "  4.20899248e-19 8.67969881e-17]]\n"
     ]
    }
   ],
   "source": [
    "prediction = model.predict(X_test[1:7])\n",
    "\n",
    "print(prediction)\n",
    "\n",
    "\n",
    "# 1/1 [==============================] - 0s 18ms/step\n",
    "# [[1.0000000e+00 1.0000000e+00 1.0000000e+00 0.0000000e+00 1.0000000e+00\n",
    "#   0.0000000e+00 2.9805187e-13 0.0000000e+00 5.6807171e-08 1.0000000e+00\n",
    "#   1.0000000e+00 1.0000000e+00 1.0000000e+00 1.0000000e+00]]"
   ]
  },
  {
   "cell_type": "code",
   "execution_count": 79,
   "id": "af6f4019",
   "metadata": {
    "scrolled": false
   },
   "outputs": [
    {
     "name": "stdout",
     "output_type": "stream",
     "text": [
      "1/1 [==============================] - 0s 24ms/step\n",
      "6Kw4Xv15iNcSH6CEOmOlfp,Flash Flood,XXV,21ScS5p3xlRHMwGoWAWlY6,['The Hentchmen'],['7jKdcTLxl5PvTJ27fxQRwh'],2,1,False,0.436,0.858,0,-6.404,0,0.047,0.000299,4.85e-05,0.141,0.867,143.205,143906,4.0,2017,2017-12-12\n"
     ]
    }
   ],
   "source": [
    "#linear regression to find closest song match\n",
    "import random\n",
    "\n",
    "songs_file= 0 #raw data from the tracks\n",
    "with open(\"tracks_features.csv\",'r') as songs:\n",
    "    songs_file = songs.read()\n",
    "    \n",
    "\n",
    "#find a random 10000 songs out of the 1 million song dataset (bc otherwise too slow)\n",
    "songs_file = random.sample(songs_file.split('\\n')[1:], 10000)\n",
    "    \n",
    "\n",
    "#put raw data from tracks into list named songs\n",
    "songs = []\n",
    "for line in songs_file:\n",
    "    line_end = line.split(\"True,\")[-1] if 'True' in line else line.split(\"False,\")[-1]\n",
    "    line = line.split(\",\")\n",
    "\n",
    "    songs.append(line_end.split(',')[:-1])\n",
    "    \n",
    "\n",
    "\n",
    "\n",
    "#visualize as the physical distance between each point in an x dimensional world, where x is number of attributes\n",
    "#find the smallest distance\n",
    "\n",
    "smallest = 10000000\n",
    "smallest_index = 0\n",
    "\n",
    "\n",
    "\n",
    "def normalize(values):\n",
    "    return (values - minimum)/(maximum - minimum)\n",
    "\n",
    "\n",
    "b = list(map(float, \"90.4,73.2,79.7,96.3,73.2,81.5,71.7,77.9,0.08,100.0,8.33,0.0,0.0,29.9,11.8,115.6,39.1,9.9,513.6,44.6,5.0,0.25\".split(\",\")))\n",
    "#b = np.array(list(b)) #turning the data we're trying to match (b) into np vector\n",
    "b = model.predict(np.array([np.array(normalize(b))])) \n",
    "\n",
    "for c,i in enumerate(songs):\n",
    "        try:\n",
    "            a = np.array(list(map(float,i))) #turning song into np vector\n",
    "\n",
    "            dist = np.linalg.norm(a-b)\n",
    "            #print(dist)\n",
    "\n",
    "            if dist < smallest:\n",
    "                smallest = dist\n",
    "                smallest_index = c\n",
    "        except:\n",
    "            pass\n",
    "\n",
    "\n",
    "print(songs_file[smallest_index+1])\n",
    "    "
   ]
  },
  {
   "cell_type": "code",
   "execution_count": 90,
   "id": "762de496",
   "metadata": {},
   "outputs": [
    {
     "data": {
      "text/plain": [
       "22"
      ]
     },
     "execution_count": 90,
     "metadata": {},
     "output_type": "execute_result"
    }
   ],
   "source": [
    "len(X_test[1])"
   ]
  },
  {
   "cell_type": "code",
   "execution_count": 93,
   "id": "2f500a03",
   "metadata": {},
   "outputs": [
    {
     "data": {
      "text/plain": [
       "22"
      ]
     },
     "execution_count": 93,
     "metadata": {},
     "output_type": "execute_result"
    }
   ],
   "source": [
    "b = list(map(float, \"90.4,73.2,79.7,96.3,73.2,81.5,71.7,77.9,0.08,100.0,8.33,0.0,0.0,29.9,11.8,115.6,39.1,9.9,513.6,44.6,5.0,0.25\".split(\",\")))\n",
    "len(b)"
   ]
  },
  {
   "cell_type": "code",
   "execution_count": 74,
   "id": "b12d852c",
   "metadata": {},
   "outputs": [
    {
     "name": "stderr",
     "output_type": "stream",
     "text": [
      "WARNING:absl:Found untraced functions such as lstm_cell_33_layer_call_fn, lstm_cell_33_layer_call_and_return_conditional_losses while saving (showing 2 of 2). These functions will not be directly callable after loading.\n"
     ]
    },
    {
     "name": "stdout",
     "output_type": "stream",
     "text": [
      "INFO:tensorflow:Assets written to: awful_yeast/assets\n"
     ]
    },
    {
     "name": "stderr",
     "output_type": "stream",
     "text": [
      "INFO:tensorflow:Assets written to: awful_yeast/assets\n"
     ]
    }
   ],
   "source": [
    "model.save(\"awful_yeast\")"
   ]
  },
  {
   "cell_type": "code",
   "execution_count": 80,
   "id": "b76b6123",
   "metadata": {},
   "outputs": [
    {
     "data": {
      "text/plain": [
       "array([9.770e+01, 7.710e+01, 8.580e+01, 1.063e+02, 7.710e+01, 9.210e+01,\n",
       "       7.360e+01, 9.740e+01, 1.834e+00, 1.000e+02, 8.750e+01, 6.000e-01,\n",
       "       5.000e-01, 5.170e+01, 2.640e+01, 3.571e+02, 1.000e+02, 9.900e+00,\n",
       "       5.587e+02, 4.800e+01, 1.000e+01, 1.000e+00])"
      ]
     },
     "execution_count": 80,
     "metadata": {},
     "output_type": "execute_result"
    }
   ],
   "source": [
    "maximum"
   ]
  },
  {
   "cell_type": "code",
   "execution_count": 81,
   "id": "54b1e63e",
   "metadata": {},
   "outputs": [
    {
     "data": {
      "text/plain": [
       "array([25.7,  7.9, 16.1, 15. , -8.8,  3.1,  2.4, 28.3,  0. ,  0. ,  0. ,\n",
       "        0. ,  0. ,  4.7,  4.6,  0.5,  0. ,  2.1, 16. ,  1.4,  1. ,  0. ])"
      ]
     },
     "execution_count": 81,
     "metadata": {},
     "output_type": "execute_result"
    }
   ],
   "source": [
    "minimum"
   ]
  },
  {
   "cell_type": "code",
   "execution_count": null,
   "id": "0a62770a",
   "metadata": {},
   "outputs": [],
   "source": []
  }
 ],
 "metadata": {
  "kernelspec": {
   "display_name": "Python 3 (ipykernel)",
   "language": "python",
   "name": "python3"
  },
  "language_info": {
   "codemirror_mode": {
    "name": "ipython",
    "version": 3
   },
   "file_extension": ".py",
   "mimetype": "text/x-python",
   "name": "python",
   "nbconvert_exporter": "python",
   "pygments_lexer": "ipython3",
   "version": "3.8.16"
  }
 },
 "nbformat": 4,
 "nbformat_minor": 5
}
