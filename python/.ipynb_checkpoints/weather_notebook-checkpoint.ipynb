{
 "cells": [
  {
   "cell_type": "code",
   "execution_count": 69,
   "id": "0f9d2652",
   "metadata": {},
   "outputs": [
    {
     "name": "stdout",
     "output_type": "stream",
     "text": [
      "{'queryCost': 1, 'latitude': 33.7483, 'longitude': -84.3911, 'resolvedAddress': 'Atlanta, GA, United States', 'address': 'atlanta', 'timezone': 'America/New_York', 'tzoffset': -5.0, 'days': [{'datetime': '2023-02-11', 'datetimeEpoch': 1676091600, 'tempmax': 55.1, 'tempmin': 43.1, 'temp': 49.0, 'feelslikemax': 55.1, 'feelslikemin': 33.0, 'feelslike': 45.5, 'dew': 37.4, 'humidity': 65.7, 'precip': 0.484, 'precipprob': 100.0, 'precipcover': 45.83, 'preciptype': ['rain'], 'snow': 0.0, 'snowdepth': 0.0, 'windgust': 43.6, 'windspeed': 27.5, 'winddir': 59.0, 'pressure': 1018.2, 'cloudcover': 73.5, 'visibility': 9.1, 'solarradiation': 447.0, 'solarenergy': 38.0, 'uvindex': 5.0, 'severerisk': 10.0, 'sunrise': '07:26:02', 'sunriseEpoch': 1676118362, 'sunset': '18:18:03', 'sunsetEpoch': 1676157483, 'moonphase': 0.64, 'conditions': 'Rain, Partially cloudy', 'description': 'Partly cloudy throughout the day with rain.', 'icon': 'rain', 'stations': ['1066W', 'KFTY', 'KATL', 'KPDK'], 'source': 'comb'}, {'datetime': '2023-02-12', 'datetimeEpoch': 1676178000, 'tempmax': 47.9, 'tempmin': 40.9, 'temp': 43.5, 'feelslikemax': 42.3, 'feelslikemin': 32.4, 'feelslike': 36.5, 'dew': 39.8, 'humidity': 87.2, 'precip': 1.03, 'precipprob': 90.0, 'precipcover': 62.5, 'preciptype': ['rain'], 'snow': 0.0, 'snowdepth': 0.0, 'windgust': 43.6, 'windspeed': 26.4, 'winddir': 6.3, 'pressure': 1009.5, 'cloudcover': 77.2, 'visibility': 8.1, 'solarradiation': 53.7, 'solarenergy': 4.7, 'uvindex': 2.0, 'severerisk': 10.0, 'sunrise': '07:25:05', 'sunriseEpoch': 1676204705, 'sunset': '18:19:00', 'sunsetEpoch': 1676243940, 'moonphase': 0.69, 'conditions': 'Rain, Partially cloudy', 'description': 'Partly cloudy throughout the day with rain clearing later.', 'icon': 'rain', 'stations': None, 'source': 'fcst'}, {'datetime': '2023-02-13', 'datetimeEpoch': 1676264400, 'tempmax': 61.1, 'tempmin': 36.9, 'temp': 47.3, 'feelslikemax': 61.1, 'feelslikemin': 30.3, 'feelslike': 43.8, 'dew': 33.1, 'humidity': 60.0, 'precip': 0.0, 'precipprob': 0.0, 'precipcover': 0.0, 'preciptype': None, 'snow': 0.0, 'snowdepth': 0.0, 'windgust': 20.8, 'windspeed': 12.8, 'winddir': 293.5, 'pressure': 1015.9, 'cloudcover': 11.3, 'visibility': 10.1, 'solarradiation': 223.1, 'solarenergy': 19.2, 'uvindex': 7.0, 'severerisk': 10.0, 'sunrise': '07:24:07', 'sunriseEpoch': 1676291047, 'sunset': '18:19:56', 'sunsetEpoch': 1676330396, 'moonphase': 0.75, 'conditions': 'Clear', 'description': 'Clear conditions throughout the day.', 'icon': 'clear-day', 'stations': None, 'source': 'fcst'}, {'datetime': '2023-02-14', 'datetimeEpoch': 1676350800, 'tempmax': 63.9, 'tempmin': 38.9, 'temp': 51.7, 'feelslikemax': 63.9, 'feelslikemin': 38.9, 'feelslike': 50.9, 'dew': 40.1, 'humidity': 66.7, 'precip': 0.0, 'precipprob': 9.0, 'precipcover': 0.0, 'preciptype': None, 'snow': 0.0, 'snowdepth': 0.0, 'windgust': 26.2, 'windspeed': 17.0, 'winddir': 152.8, 'pressure': 1017.5, 'cloudcover': 42.1, 'visibility': 10.9, 'solarradiation': 167.1, 'solarenergy': 14.1, 'uvindex': 5.0, 'severerisk': 10.0, 'sunrise': '07:23:08', 'sunriseEpoch': 1676377388, 'sunset': '18:20:51', 'sunsetEpoch': 1676416851, 'moonphase': 0.8, 'conditions': 'Partially cloudy', 'description': 'Partly cloudy throughout the day.', 'icon': 'partly-cloudy-day', 'stations': None, 'source': 'fcst'}, {'datetime': '2023-02-15', 'datetimeEpoch': 1676437200, 'tempmax': 67.4, 'tempmin': 51.3, 'temp': 58.6, 'feelslikemax': 67.4, 'feelslikemin': 51.3, 'feelslike': 58.6, 'dew': 51.1, 'humidity': 76.5, 'precip': 0.08, 'precipprob': 38.0, 'precipcover': 25.0, 'preciptype': ['rain'], 'snow': 0.0, 'snowdepth': 0.0, 'windgust': 23.9, 'windspeed': 15.8, 'winddir': 164.3, 'pressure': 1019.5, 'cloudcover': 86.9, 'visibility': 14.4, 'solarradiation': 40.0, 'solarenergy': 3.0, 'uvindex': 1.0, 'severerisk': 10.0, 'sunrise': '07:22:07', 'sunriseEpoch': 1676463727, 'sunset': '18:21:47', 'sunsetEpoch': 1676503307, 'moonphase': 0.85, 'conditions': 'Partially cloudy', 'description': 'Partly cloudy throughout the day.', 'icon': 'partly-cloudy-day', 'stations': None, 'source': 'fcst'}, {'datetime': '2023-02-16', 'datetimeEpoch': 1676523600, 'tempmax': 69.2, 'tempmin': 56.4, 'temp': 62.6, 'feelslikemax': 69.2, 'feelslikemin': 56.4, 'feelslike': 62.6, 'dew': 57.1, 'humidity': 83.0, 'precip': 0.102, 'precipprob': 80.0, 'precipcover': 16.67, 'preciptype': ['rain'], 'snow': 0.0, 'snowdepth': 0.0, 'windgust': 29.2, 'windspeed': 18.9, 'winddir': 174.1, 'pressure': 1015.2, 'cloudcover': 85.2, 'visibility': 14.8, 'solarradiation': 110.3, 'solarenergy': 9.6, 'uvindex': 3.0, 'severerisk': 10.0, 'sunrise': '07:21:05', 'sunriseEpoch': 1676550065, 'sunset': '18:22:42', 'sunsetEpoch': 1676589762, 'moonphase': 0.91, 'conditions': 'Rain, Partially cloudy', 'description': 'Partly cloudy throughout the day with a chance of rain.', 'icon': 'rain', 'stations': None, 'source': 'fcst'}, {'datetime': '2023-02-17', 'datetimeEpoch': 1676610000, 'tempmax': 62.1, 'tempmin': 37.8, 'temp': 49.5, 'feelslikemax': 62.1, 'feelslikemin': 28.2, 'feelslike': 45.5, 'dew': 37.6, 'humidity': 65.4, 'precip': 0.185, 'precipprob': 81.0, 'precipcover': 16.67, 'preciptype': ['rain'], 'snow': 0.0, 'snowdepth': 0.0, 'windgust': 31.3, 'windspeed': 20.6, 'winddir': 288.8, 'pressure': 1018.7, 'cloudcover': 50.0, 'visibility': 12.4, 'solarradiation': 204.8, 'solarenergy': 17.7, 'uvindex': 6.0, 'severerisk': 10.0, 'sunrise': '07:20:03', 'sunriseEpoch': 1676636403, 'sunset': '18:23:36', 'sunsetEpoch': 1676676216, 'moonphase': 0.95, 'conditions': 'Rain, Partially cloudy', 'description': 'Partly cloudy throughout the day with rain clearing later.', 'icon': 'rain', 'stations': None, 'source': 'fcst'}, {'datetime': '2023-02-18', 'datetimeEpoch': 1676696400, 'tempmax': 52.8, 'tempmin': 31.0, 'temp': 41.3, 'feelslikemax': 52.8, 'feelslikemin': 21.0, 'feelslike': 35.1, 'dew': 24.3, 'humidity': 51.7, 'precip': 0.0, 'precipprob': 4.0, 'precipcover': 0.0, 'preciptype': None, 'snow': 0.0, 'snowdepth': 0.0, 'windgust': 26.5, 'windspeed': 17.4, 'winddir': 3.1, 'pressure': 1031.5, 'cloudcover': 17.2, 'visibility': 15.0, 'solarradiation': 221.8, 'solarenergy': 19.2, 'uvindex': 7.0, 'severerisk': 10.0, 'sunrise': '07:18:59', 'sunriseEpoch': 1676722739, 'sunset': '18:24:31', 'sunsetEpoch': 1676762671, 'moonphase': 0.98, 'conditions': 'Clear', 'description': 'Clear conditions throughout the day.', 'icon': 'clear-day', 'stations': None, 'source': 'fcst'}, {'datetime': '2023-02-19', 'datetimeEpoch': 1676782800, 'tempmax': 60.3, 'tempmin': 35.5, 'temp': 47.5, 'feelslikemax': 60.3, 'feelslikemin': 29.8, 'feelslike': 44.9, 'dew': 34.3, 'humidity': 61.6, 'precip': 0.0, 'precipprob': 2.0, 'precipcover': 0.0, 'preciptype': None, 'snow': 0.0, 'snowdepth': 0.0, 'windgust': 16.3, 'windspeed': 11.0, 'winddir': 132.2, 'pressure': 1029.0, 'cloudcover': 42.8, 'visibility': 15.0, 'solarradiation': 190.8, 'solarenergy': 16.4, 'uvindex': 7.0, 'severerisk': 10.0, 'sunrise': '07:17:54', 'sunriseEpoch': 1676809074, 'sunset': '18:25:25', 'sunsetEpoch': 1676849125, 'moonphase': 1.0, 'conditions': 'Partially cloudy', 'description': 'Becoming cloudy in the afternoon.', 'icon': 'partly-cloudy-day', 'stations': None, 'source': 'fcst'}, {'datetime': '2023-02-20', 'datetimeEpoch': 1676869200, 'tempmax': 69.3, 'tempmin': 46.8, 'temp': 56.9, 'feelslikemax': 69.3, 'feelslikemin': 46.0, 'feelslike': 56.8, 'dew': 43.3, 'humidity': 62.8, 'precip': 0.0, 'precipprob': 23.8, 'precipcover': 0.0, 'preciptype': None, 'snow': 0.0, 'snowdepth': 0.0, 'windgust': 11.1, 'windspeed': 7.6, 'winddir': 190.8, 'pressure': 1022.4, 'cloudcover': 52.4, 'visibility': 15.0, 'solarradiation': 198.8, 'solarenergy': 17.3, 'uvindex': 7.0, 'severerisk': 10.0, 'sunrise': '07:16:48', 'sunriseEpoch': 1676895408, 'sunset': '18:26:18', 'sunsetEpoch': 1676935578, 'moonphase': 0.0, 'conditions': 'Partially cloudy', 'description': 'Partly cloudy throughout the day.', 'icon': 'partly-cloudy-day', 'stations': None, 'source': 'fcst'}, {'datetime': '2023-02-21', 'datetimeEpoch': 1676955600, 'tempmax': 75.5, 'tempmin': 52.8, 'temp': 63.7, 'feelslikemax': 75.5, 'feelslikemin': 52.8, 'feelslike': 63.7, 'dew': 52.4, 'humidity': 68.2, 'precip': 0.0, 'precipprob': 61.9, 'precipcover': 0.0, 'preciptype': ['rain'], 'snow': 0.0, 'snowdepth': 0.0, 'windgust': 29.1, 'windspeed': 12.5, 'winddir': 207.7, 'pressure': 1018.2, 'cloudcover': 4.5, 'visibility': 14.9, 'solarradiation': 208.5, 'solarenergy': 18.0, 'uvindex': 7.0, 'severerisk': 10.0, 'sunrise': '07:15:41', 'sunriseEpoch': 1676981741, 'sunset': '18:27:12', 'sunsetEpoch': 1677022032, 'moonphase': 0.01, 'conditions': 'Rain', 'description': 'Clear conditions throughout the day with a chance of rain.', 'icon': 'rain', 'stations': None, 'source': 'fcst'}, {'datetime': '2023-02-22', 'datetimeEpoch': 1677042000, 'tempmax': 63.3, 'tempmin': 57.3, 'temp': 58.9, 'feelslikemax': 63.3, 'feelslikemin': 57.3, 'feelslike': 58.9, 'dew': 54.4, 'humidity': 85.3, 'precip': 0.23, 'precipprob': 66.7, 'precipcover': 29.17, 'preciptype': ['rain'], 'snow': 0.0, 'snowdepth': 0.0, 'windgust': 22.8, 'windspeed': 8.1, 'winddir': 5.7, 'pressure': 1018.7, 'cloudcover': 97.9, 'visibility': 13.1, 'solarradiation': 14.6, 'solarenergy': 0.9, 'uvindex': 1.0, 'severerisk': 10.0, 'sunrise': '07:14:33', 'sunriseEpoch': 1677068073, 'sunset': '18:28:04', 'sunsetEpoch': 1677108484, 'moonphase': 0.03, 'conditions': 'Rain, Overcast', 'description': 'Cloudy skies throughout the day with a chance of rain throughout the day.', 'icon': 'rain', 'stations': None, 'source': 'fcst'}, {'datetime': '2023-02-23', 'datetimeEpoch': 1677128400, 'tempmax': 69.0, 'tempmin': 57.4, 'temp': 63.1, 'feelslikemax': 69.0, 'feelslikemin': 57.4, 'feelslike': 63.1, 'dew': 60.9, 'humidity': 92.8, 'precip': 0.559, 'precipprob': 28.6, 'precipcover': 33.33, 'preciptype': ['rain'], 'snow': 0.0, 'snowdepth': 0.0, 'windgust': 31.2, 'windspeed': 10.3, 'winddir': 171.3, 'pressure': 1012.9, 'cloudcover': 100.0, 'visibility': 11.9, 'solarradiation': 74.5, 'solarenergy': 6.3, 'uvindex': 3.0, 'severerisk': 10.0, 'sunrise': '07:13:25', 'sunriseEpoch': 1677154405, 'sunset': '18:28:57', 'sunsetEpoch': 1677194937, 'moonphase': 0.07, 'conditions': 'Overcast', 'description': 'Cloudy skies throughout the day.', 'icon': 'cloudy', 'stations': None, 'source': 'fcst'}, {'datetime': '2023-02-24', 'datetimeEpoch': 1677214800, 'tempmax': 66.5, 'tempmin': 57.6, 'temp': 62.6, 'feelslikemax': 66.5, 'feelslikemin': 57.6, 'feelslike': 62.6, 'dew': 55.1, 'humidity': 77.1, 'precip': 0.673, 'precipprob': 28.6, 'precipcover': 20.83, 'preciptype': ['rain'], 'snow': 0.0, 'snowdepth': 0.0, 'windgust': 50.8, 'windspeed': 23.3, 'winddir': 224.8, 'pressure': 1009.9, 'cloudcover': 85.9, 'visibility': 13.3, 'solarradiation': 78.1, 'solarenergy': 6.9, 'uvindex': 4.0, 'severerisk': 10.0, 'sunrise': '07:12:15', 'sunriseEpoch': 1677240735, 'sunset': '18:29:49', 'sunsetEpoch': 1677281389, 'moonphase': 0.11, 'conditions': 'Partially cloudy', 'description': 'Partly cloudy throughout the day.', 'icon': 'partly-cloudy-day', 'stations': None, 'source': 'fcst'}, {'datetime': '2023-02-25', 'datetimeEpoch': 1677301200, 'tempmax': 73.5, 'tempmin': 53.0, 'temp': 62.4, 'feelslikemax': 73.5, 'feelslikemin': 53.0, 'feelslike': 62.4, 'dew': 50.3, 'humidity': 68.0, 'precip': 0.0, 'precipprob': 28.6, 'precipcover': 0.0, 'preciptype': None, 'snow': 0.0, 'snowdepth': 0.0, 'windgust': 21.3, 'windspeed': 10.5, 'winddir': 250.1, 'pressure': 1014.1, 'cloudcover': 28.4, 'visibility': 15.0, 'solarradiation': 217.8, 'solarenergy': 18.9, 'uvindex': 7.0, 'severerisk': 10.0, 'sunrise': '07:11:05', 'sunriseEpoch': 1677327065, 'sunset': '18:30:41', 'sunsetEpoch': 1677367841, 'moonphase': 0.16, 'conditions': 'Partially cloudy', 'description': 'Partly cloudy throughout the day.', 'icon': 'partly-cloudy-day', 'stations': None, 'source': 'fcst'}], 'stations': {'1066W': {'distance': 1443.0, 'latitude': 33.735, 'longitude': -84.39, 'useCount': 0, 'id': '1066W', 'name': 'Georgia State University GA US WEATHERSTEM', 'quality': 0, 'contribution': 0.0}, 'F4001': {'distance': 3807.0, 'latitude': 33.781, 'longitude': -84.38, 'useCount': 0, 'id': 'F4001', 'name': 'FW4001 Atlanta GA US', 'quality': 0, 'contribution': 0.0}, 'KFTY': {'distance': 12440.0, 'latitude': 33.78, 'longitude': -84.52, 'useCount': 0, 'id': 'KFTY', 'name': 'KFTY', 'quality': 100, 'contribution': 0.0}, 'KATL': {'distance': 11265.0, 'latitude': 33.65, 'longitude': -84.42, 'useCount': 0, 'id': 'KATL', 'name': 'KATL', 'quality': 100, 'contribution': 0.0}, 'KPDK': {'distance': 16910.0, 'latitude': 33.88, 'longitude': -84.3, 'useCount': 0, 'id': 'KPDK', 'name': 'KPDK', 'quality': 100, 'contribution': 0.0}}, 'currentConditions': {'datetime': '19:30:11', 'datetimeEpoch': 1676161811, 'temp': 41.2, 'feelslike': 31.2, 'humidity': 65.3, 'dew': 30.5, 'precip': 0.001, 'precipprob': 100.0, 'snow': 0.0, 'snowdepth': 0.0, 'preciptype': None, 'windgust': 31.3, 'windspeed': 23.9, 'winddir': 65.0, 'pressure': 1015.0, 'visibility': 6.0, 'cloudcover': 70.9, 'solarradiation': 541.0, 'solarenergy': 1.9, 'uvindex': 0.0, 'conditions': 'Rain, Partially cloudy', 'icon': 'rain', 'stations': ['F4001', 'KFTY', 'KATL'], 'source': 'obs', 'sunrise': '07:26:02', 'sunriseEpoch': 1676118362, 'sunset': '18:18:03', 'sunsetEpoch': 1676157483, 'moonphase': 0.64}}\n"
     ]
    }
   ],
   "source": [
    "#processing single query for current data\n",
    "\n",
    "import requests\n",
    "import sys\n",
    "import json\n",
    "\n",
    "import os\n",
    "import matplotlib.pyplot as plt\n",
    "import pandas as pd\n",
    "                \n",
    "\n",
    "response = requests.request(\"GET\", \"https://weather.visualcrossing.com/VisualCrossingWebServices/rest/services/timeline/atlanta?unitGroup=us&include=current&key=R9ZCEVVMLR3LJL43H33SFS4G4&contentType=json\")\n",
    "if response.status_code!=200:\n",
    "  print('Unexpected Status code: ', response.status_code)\n",
    "  sys.exit()  \n",
    "\n",
    "\n",
    "# Parse the results as JSON\n",
    "jsonData = response.json()\n"
   ]
  },
  {
   "cell_type": "code",
   "execution_count": 83,
   "id": "f4353500",
   "metadata": {},
   "outputs": [
    {
     "name": "stdout",
     "output_type": "stream",
     "text": [
      "<class 'numpy.float64'>\n",
      "        datetime  tempmax  tempmin  temp  feelslikemax  feelslikemin  \\\n",
      "0     2017-05-01     74.9     63.9  70.0          74.9          63.9   \n",
      "1     2017-05-02     79.1     49.8  65.4          79.1          49.8   \n",
      "2     2017-05-03     83.0     52.6  69.8          80.8          52.6   \n",
      "3     2017-05-04     73.2     59.9  65.2          73.2          59.9   \n",
      "4     2017-05-05     57.7     48.8  51.8          57.7          44.1   \n",
      "...          ...      ...      ...   ...           ...           ...   \n",
      "1833  2023-02-06     64.6     40.3  51.6          64.6          38.5   \n",
      "1834  2023-02-07     66.8     36.7  51.5          66.8          36.7   \n",
      "1835  2023-02-08     72.0     50.2  60.9          72.0          50.2   \n",
      "1836  2023-02-09     68.7     52.4  61.9          68.7          52.4   \n",
      "1837  2023-02-10     59.5     47.8  53.3          59.5          44.7   \n",
      "\n",
      "      feelslike   dew  humidity  precip  ...  snowdepth  windgust windspeed  \\\n",
      "0          70.0  54.9      62.6   0.219  ...        0.0      30.8      16.6   \n",
      "1          65.4  41.1      45.2   0.000  ...        0.0      23.8      14.3   \n",
      "2          69.3  46.5      47.7   0.000  ...        0.0      20.8      10.8   \n",
      "3          65.2  58.1      81.0   0.814  ...        0.0      33.5      16.0   \n",
      "4          50.6  48.7      89.4   0.109  ...        0.0      26.6      15.0   \n",
      "...         ...   ...       ...     ...  ...        ...       ...       ...   \n",
      "1833       50.7  35.0      57.9   0.000  ...        0.0      20.8       9.2   \n",
      "1834       51.5  36.0      58.6   0.000  ...        0.0      13.9       8.5   \n",
      "1835       60.9  48.2      63.3   0.000  ...        0.0      15.0       8.9   \n",
      "1836       61.9  54.7      77.7   0.118  ...        0.0      26.4      13.0   \n",
      "1837       53.0  43.3      70.8   0.146  ...        0.0      21.9      10.2   \n",
      "\n",
      "      winddir  cloudcover  visibility  solarradiation  solarenergy  uvindex  \\\n",
      "0       216.2        46.9         9.6           211.2         18.5        8   \n",
      "1       281.9         0.9         9.9           344.8         30.0       10   \n",
      "2       182.4        16.7         9.9           333.3         29.0       10   \n",
      "3       153.9        71.8         8.0            85.1          7.4        3   \n",
      "4       245.1        76.9         8.9           219.3         19.0        8   \n",
      "...       ...         ...         ...             ...          ...      ...   \n",
      "1833    314.9         8.3         9.9           534.6         45.6        5   \n",
      "1834    155.1        33.6         9.9           534.3         45.8        5   \n",
      "1835    146.0        78.5         9.8           529.4         45.6        5   \n",
      "1836    198.4        84.6         9.1           529.5         45.6        5   \n",
      "1837    316.2        70.0         9.6           504.2         43.1        5   \n",
      "\n",
      "      moonphase  \n",
      "0          0.16  \n",
      "1          0.22  \n",
      "2          0.27  \n",
      "3          0.32  \n",
      "4          0.37  \n",
      "...         ...  \n",
      "1833       0.50  \n",
      "1834       0.52  \n",
      "1835       0.53  \n",
      "1836       0.56  \n",
      "1837       0.60  \n",
      "\n",
      "[1838 rows x 24 columns]\n"
     ]
    }
   ],
   "source": [
    "#processing all the weather data\n",
    "\n",
    "df = pd.read_csv(r'weatherData.csv') #df is dataframe\n",
    "\n",
    "#make all data numeric by dropping some columns\n",
    "#note: have to reassign df to the result of df.drop\n",
    "df = df.drop(columns=['name', 'severerisk', 'sunrise', 'sunset', 'description', 'sealevelpressure', 'icon', 'conditions', 'stations'])\n",
    "\n",
    "print(type(df._get_value(0, 1, takeable = True)))\n",
    "\n",
    "print(df)\n",
    "\n",
    "\n"
   ]
  },
  {
   "cell_type": "code",
   "execution_count": 96,
   "id": "c199c1aa",
   "metadata": {},
   "outputs": [
    {
     "name": "stdout",
     "output_type": "stream",
     "text": [
      "           0     1     2     3     4     5     6     7     8      9   ...  \\\n",
      "0  2023-02-11  55.1  43.1  49.0  55.1  33.0  45.5  37.4  65.7  0.484  ...   \n",
      "\n",
      "     21   22    23        24        25    26                      27  \\\n",
      "0  38.0  5.0  10.0  07:26:02  18:18:03  0.64  Rain, Partially cloudy   \n",
      "\n",
      "                                            28    29  \\\n",
      "0  Partly cloudy throughout the day with rain.  rain   \n",
      "\n",
      "                          30  \n",
      "0  [1066W, KFTY, KATL, KPDK]  \n",
      "\n",
      "[1 rows x 31 columns]\n"
     ]
    }
   ],
   "source": [
    "import pandas as pd #pandas imported with alias!\n",
    "\n",
    "key_list = \"datetime,tempmax,tempmin,temp,feelslikemax,feelslikemin,feelslike,dew,humidity,precip,precipprob,precipcover,preciptype,snow,snowdepth,windgust,windspeed,winddir,cloudcover,visibility,solarradiation,solarenergy,uvindex,severerisk,sunrise,sunset,moonphase,conditions,description,icon,stations\".split(\",\")\n",
    "my_dict = jsonData[\"days\"][0] #get value of the key called \"days\". Get 0th value of all the days in the day value field (current day)\n",
    "my_list = []\n",
    "\n",
    "for key in key_list:\n",
    "    my_list.append(my_dict[key])\n",
    "\n",
    "df_q = pd.DataFrame (my_list) #data frame for the query\n",
    "df_q = df_query.T #transposed\n",
    "\n",
    "df_q = df_q.rename(index={0: \"datetime\", 1: \"tempmax\", 2: \"tempmin\"})\n",
    "\n",
    "#STUFF\n",
    "# temp  feelslikemax  feelslikemin\n",
    "# feelslike   dew  humidity  precip windgust  windspeed winddir\n",
    "# cloudcover  visibility  solarradiation  solarenergy  uvindex \n",
    "# moonphase\n",
    "\n",
    "# df_q_t = df_q_t.drop(columns=['severerisk', 'sunrise', 'sunset', 'description', 'icon', 'conditions', 'stations'])\n",
    "\n",
    "# df_query_transposed = df_query_transposed.drop(columns=[24, 25, 26, 27, 28, 29, 30])\n",
    "\n",
    "print(df_q)\n",
    "\n",
    "\n",
    "\n",
    "#NOTE: NEED TO MAKE ALL DATA BETWEEN 0 AND 1 (normalize)\n"
   ]
  },
  {
   "cell_type": "code",
   "execution_count": null,
   "id": "35899329",
   "metadata": {},
   "outputs": [],
   "source": []
  }
 ],
 "metadata": {
  "kernelspec": {
   "display_name": "Python 3 (ipykernel)",
   "language": "python",
   "name": "python3"
  },
  "language_info": {
   "codemirror_mode": {
    "name": "ipython",
    "version": 3
   },
   "file_extension": ".py",
   "mimetype": "text/x-python",
   "name": "python",
   "nbconvert_exporter": "python",
   "pygments_lexer": "ipython3",
   "version": "3.9.13"
  }
 },
 "nbformat": 4,
 "nbformat_minor": 5
}
